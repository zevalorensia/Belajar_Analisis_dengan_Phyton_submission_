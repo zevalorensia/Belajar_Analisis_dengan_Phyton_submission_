{
  "nbformat": 4,
  "nbformat_minor": 0,
  "metadata": {
    "colab": {
      "provenance": [],
      "toc_visible": true
    },
    "kernelspec": {
      "name": "python3",
      "display_name": "Python 3"
    },
    "language_info": {
      "name": "python"
    }
  },
  "cells": [
    {
      "cell_type": "markdown",
      "source": [
        "# Proyek Analisis Data: [E-commerce]\n",
        "- **Nama:** Zeva Lorensia Naibaho\n",
        "- **Email:** zeva.22072@mhs.unesa.ac.id\n",
        "- **ID Dicoding:** zevanaibaho"
      ],
      "metadata": {
        "id": "Q2PLQGIZVDBG"
      }
    },
    {
      "cell_type": "markdown",
      "source": [
        "## Menentukan Pertanyaan Bisnis"
      ],
      "metadata": {
        "id": "lFciqT3gVHD9"
      }
    },
    {
      "cell_type": "markdown",
      "metadata": {
        "id": "GmQeQ5YF8DC0"
      },
      "source": [
        "\n",
        "### Pertanyaan 1\n",
        "Produk apa yang paling laris setiap tahunnya?"
      ]
    },
    {
      "cell_type": "markdown",
      "source": [
        "### Pertanyaan 2\n",
        "Metode pembayaran apa yang paling sering digunakan pelanggan, dan berapa\n",
        "rata-rata nilai pesanan untuk setiap jenis pembayaran?"
      ],
      "metadata": {
        "id": "apJSvL4TU-1M"
      }
    },
    {
      "cell_type": "markdown",
      "source": [
        "### Pertanyaan 3\n",
        "Bagaimana rata-rata skor ulasan untuk kategori produk terlaris berdasarkan penjualan di tahun 2016, 2017, dan 2018?"
      ],
      "metadata": {
        "id": "3EbyBfZAVDMm"
      }
    },
    {
      "cell_type": "markdown",
      "source": [
        "\n",
        "### Pertanyaan 4\n",
        "Berapa jumlah total pesanan tiap tahunnya?"
      ],
      "metadata": {
        "id": "oeJkqRruVOU5"
      }
    },
    {
      "cell_type": "markdown",
      "source": [],
      "metadata": {
        "id": "0GFWR73_VGTJ"
      }
    },
    {
      "cell_type": "markdown",
      "source": [
        "## Import Semua Packages/Library yang Digunakan"
      ],
      "metadata": {
        "id": "EM95TBkKVTjy"
      }
    },
    {
      "cell_type": "code",
      "source": [
        "import pandas as pd\n",
        "import matplotlib.pyplot as plt\n",
        "import seaborn as sns\n"
      ],
      "metadata": {
        "id": "zr5nd8TYhDy9"
      },
      "execution_count": 2,
      "outputs": []
    },
    {
      "cell_type": "code",
      "source": [
        "import plotly.express as px"
      ],
      "metadata": {
        "id": "dHbhoI-MZTyD"
      },
      "execution_count": 47,
      "outputs": []
    },
    {
      "cell_type": "code",
      "source": [
        "from google.colab import drive\n",
        "drive.mount('/content/drive')"
      ],
      "metadata": {
        "colab": {
          "base_uri": "https://localhost:8080/"
        },
        "id": "Z8KDky8AqoLp",
        "outputId": "2cbc525e-7029-4163-91cf-199c1774e0fd"
      },
      "execution_count": 5,
      "outputs": [
        {
          "output_type": "stream",
          "name": "stdout",
          "text": [
            "Mounted at /content/drive\n"
          ]
        }
      ]
    },
    {
      "cell_type": "markdown",
      "source": [
        "## Data Wrangling"
      ],
      "metadata": {
        "id": "eKyU6e7Bqg36"
      }
    },
    {
      "cell_type": "markdown",
      "source": [
        "###  Gathering Data"
      ],
      "metadata": {
        "id": "0o8UPR0N6_Dk"
      }
    },
    {
      "cell_type": "code",
      "source": [
        "file_path = '/content/drive/My Drive/E-Commerce Public Dataset/orders_dataset.csv'\n",
        "orders_df = pd.read_csv(file_path)\n",
        "print(orders_df.head())"
      ],
      "metadata": {
        "colab": {
          "base_uri": "https://localhost:8080/"
        },
        "id": "qBs0cg9eqhqz",
        "outputId": "fb1dcff1-5b43-47aa-ee60-b294c030df37"
      },
      "execution_count": 6,
      "outputs": [
        {
          "output_type": "stream",
          "name": "stdout",
          "text": [
            "                           order_id                       customer_id  \\\n",
            "0  e481f51cbdc54678b7cc49136f2d6af7  9ef432eb6251297304e76186b10a928d   \n",
            "1  53cdb2fc8bc7dce0b6741e2150273451  b0830fb4747a6c6d20dea0b8c802d7ef   \n",
            "2  47770eb9100c2d0c44946d9cf07ec65d  41ce2a54c0b03bf3443c3d931a367089   \n",
            "3  949d5b44dbf5de918fe9c16f97b45f8a  f88197465ea7920adcdbec7375364d82   \n",
            "4  ad21c59c0840e6cb83a9ceb5573f8159  8ab97904e6daea8866dbdbc4fb7aad2c   \n",
            "\n",
            "  order_status order_purchase_timestamp    order_approved_at  \\\n",
            "0    delivered      2017-10-02 10:56:33  2017-10-02 11:07:15   \n",
            "1    delivered      2018-07-24 20:41:37  2018-07-26 03:24:27   \n",
            "2    delivered      2018-08-08 08:38:49  2018-08-08 08:55:23   \n",
            "3    delivered      2017-11-18 19:28:06  2017-11-18 19:45:59   \n",
            "4    delivered      2018-02-13 21:18:39  2018-02-13 22:20:29   \n",
            "\n",
            "  order_delivered_carrier_date order_delivered_customer_date  \\\n",
            "0          2017-10-04 19:55:00           2017-10-10 21:25:13   \n",
            "1          2018-07-26 14:31:00           2018-08-07 15:27:45   \n",
            "2          2018-08-08 13:50:00           2018-08-17 18:06:29   \n",
            "3          2017-11-22 13:39:59           2017-12-02 00:28:42   \n",
            "4          2018-02-14 19:46:34           2018-02-16 18:17:02   \n",
            "\n",
            "  order_estimated_delivery_date  \n",
            "0           2017-10-18 00:00:00  \n",
            "1           2018-08-13 00:00:00  \n",
            "2           2018-09-04 00:00:00  \n",
            "3           2017-12-15 00:00:00  \n",
            "4           2018-02-26 00:00:00  \n"
          ]
        }
      ]
    },
    {
      "cell_type": "code",
      "source": [
        "file_path = '/content/drive/My Drive/E-Commerce Public Dataset/products_dataset.csv'\n",
        "product_df = pd.read_csv(file_path)\n",
        "print(product_df.head())"
      ],
      "metadata": {
        "colab": {
          "base_uri": "https://localhost:8080/"
        },
        "id": "HNcsm6hcuHYG",
        "outputId": "defac3bd-f8ec-4ed1-ebeb-76a09dc15347"
      },
      "execution_count": 7,
      "outputs": [
        {
          "output_type": "stream",
          "name": "stdout",
          "text": [
            "                         product_id  product_category_name  \\\n",
            "0  1e9e8ef04dbcff4541ed26657ea517e5             perfumaria   \n",
            "1  3aa071139cb16b67ca9e5dea641aaa2f                  artes   \n",
            "2  96bd76ec8810374ed1b65e291975717f          esporte_lazer   \n",
            "3  cef67bcfe19066a932b7673e239eb23d                  bebes   \n",
            "4  9dc1a7de274444849c219cff195d0b71  utilidades_domesticas   \n",
            "\n",
            "   product_name_lenght  product_description_lenght  product_photos_qty  \\\n",
            "0                 40.0                       287.0                 1.0   \n",
            "1                 44.0                       276.0                 1.0   \n",
            "2                 46.0                       250.0                 1.0   \n",
            "3                 27.0                       261.0                 1.0   \n",
            "4                 37.0                       402.0                 4.0   \n",
            "\n",
            "   product_weight_g  product_length_cm  product_height_cm  product_width_cm  \n",
            "0             225.0               16.0               10.0              14.0  \n",
            "1            1000.0               30.0               18.0              20.0  \n",
            "2             154.0               18.0                9.0              15.0  \n",
            "3             371.0               26.0                4.0              26.0  \n",
            "4             625.0               20.0               17.0              13.0  \n"
          ]
        }
      ]
    },
    {
      "cell_type": "code",
      "source": [
        "file_path = '/content/drive/My Drive/E-Commerce Public Dataset/order_reviews_dataset.csv'\n",
        "order_reviews_df = pd.read_csv(file_path)\n",
        "print(order_reviews_df.head())"
      ],
      "metadata": {
        "colab": {
          "base_uri": "https://localhost:8080/"
        },
        "id": "CgvP6FGBuLMR",
        "outputId": "91321803-31c3-4ab1-d493-ffcceeb9a6d1"
      },
      "execution_count": 8,
      "outputs": [
        {
          "output_type": "stream",
          "name": "stdout",
          "text": [
            "                          review_id                          order_id  \\\n",
            "0  7bc2406110b926393aa56f80a40eba40  73fc7af87114b39712e6da79b0a377eb   \n",
            "1  80e641a11e56f04c1ad469d5645fdfde  a548910a1c6147796b98fdf73dbeba33   \n",
            "2  228ce5500dc1d8e020d8d1322874b6f0  f9e4b658b201a9f2ecdecbb34bed034b   \n",
            "3  e64fb393e7b32834bb789ff8bb30750e  658677c97b385a9be170737859d3511b   \n",
            "4  f7c4243c7fe1938f181bec41a392bdeb  8e6bfb81e283fa7e4f11123a3fb894f1   \n",
            "\n",
            "   review_score review_comment_title  \\\n",
            "0             4                  NaN   \n",
            "1             5                  NaN   \n",
            "2             5                  NaN   \n",
            "3             5                  NaN   \n",
            "4             5                  NaN   \n",
            "\n",
            "                              review_comment_message review_creation_date  \\\n",
            "0                                                NaN  2018-01-18 00:00:00   \n",
            "1                                                NaN  2018-03-10 00:00:00   \n",
            "2                                                NaN  2018-02-17 00:00:00   \n",
            "3              Recebi bem antes do prazo estipulado.  2017-04-21 00:00:00   \n",
            "4  Parabéns lojas lannister adorei comprar pela I...  2018-03-01 00:00:00   \n",
            "\n",
            "  review_answer_timestamp  \n",
            "0     2018-01-18 21:46:59  \n",
            "1     2018-03-11 03:05:13  \n",
            "2     2018-02-18 14:36:24  \n",
            "3     2017-04-21 22:02:06  \n",
            "4     2018-03-02 10:26:53  \n"
          ]
        }
      ]
    },
    {
      "cell_type": "code",
      "source": [
        "file_path = '/content/drive/My Drive/E-Commerce Public Dataset/order_items_dataset.csv'\n",
        "order_items_df = pd.read_csv(file_path)\n",
        "print(order_items_df.head())"
      ],
      "metadata": {
        "colab": {
          "base_uri": "https://localhost:8080/"
        },
        "id": "DjvEOKe0uP7a",
        "outputId": "63e21740-d8c8-4b9a-b0d9-3a7ba3778c38"
      },
      "execution_count": 9,
      "outputs": [
        {
          "output_type": "stream",
          "name": "stdout",
          "text": [
            "                           order_id  order_item_id  \\\n",
            "0  00010242fe8c5a6d1ba2dd792cb16214              1   \n",
            "1  00018f77f2f0320c557190d7a144bdd3              1   \n",
            "2  000229ec398224ef6ca0657da4fc703e              1   \n",
            "3  00024acbcdf0a6daa1e931b038114c75              1   \n",
            "4  00042b26cf59d7ce69dfabb4e55b4fd9              1   \n",
            "\n",
            "                         product_id                         seller_id  \\\n",
            "0  4244733e06e7ecb4970a6e2683c13e61  48436dade18ac8b2bce089ec2a041202   \n",
            "1  e5f2d52b802189ee658865ca93d83a8f  dd7ddc04e1b6c2c614352b383efe2d36   \n",
            "2  c777355d18b72b67abbeef9df44fd0fd  5b51032eddd242adc84c38acab88f23d   \n",
            "3  7634da152a4610f1595efa32f14722fc  9d7a1d34a5052409006425275ba1c2b4   \n",
            "4  ac6c3623068f30de03045865e4e10089  df560393f3a51e74553ab94004ba5c87   \n",
            "\n",
            "   shipping_limit_date   price  freight_value  \n",
            "0  2017-09-19 09:45:35   58.90          13.29  \n",
            "1  2017-05-03 11:05:13  239.90          19.93  \n",
            "2  2018-01-18 14:48:30  199.00          17.87  \n",
            "3  2018-08-15 10:10:18   12.99          12.79  \n",
            "4  2017-02-13 13:57:51  199.90          18.14  \n"
          ]
        }
      ]
    },
    {
      "cell_type": "code",
      "source": [
        "file_path = '/content/drive/My Drive/E-Commerce Public Dataset/order_payments_dataset.csv'\n",
        "order_payment_df = pd.read_csv(file_path)\n",
        "print(order_payment_df.head())"
      ],
      "metadata": {
        "colab": {
          "base_uri": "https://localhost:8080/"
        },
        "id": "3w-_0y9R1vAO",
        "outputId": "c9329a1f-26e4-4926-916d-2a8c1baba640"
      },
      "execution_count": 10,
      "outputs": [
        {
          "output_type": "stream",
          "name": "stdout",
          "text": [
            "                           order_id  payment_sequential payment_type  \\\n",
            "0  b81ef226f3fe1789b1e8b2acac839d17                   1  credit_card   \n",
            "1  a9810da82917af2d9aefd1278f1dcfa0                   1  credit_card   \n",
            "2  25e8ea4e93396b6fa0d3dd708e76c1bd                   1  credit_card   \n",
            "3  ba78997921bbcdc1373bb41e913ab953                   1  credit_card   \n",
            "4  42fdf880ba16b47b59251dd489d4441a                   1  credit_card   \n",
            "\n",
            "   payment_installments  payment_value  \n",
            "0                     8          99.33  \n",
            "1                     1          24.39  \n",
            "2                     1          65.71  \n",
            "3                     8         107.78  \n",
            "4                     2         128.45  \n"
          ]
        }
      ]
    },
    {
      "cell_type": "markdown",
      "source": [
        "Insight\n",
        "*    \n",
        "Tren Pertumbuhan Pesanan: Menganalisis jumlah total pesanan per tahun membantu memahami tren pertumbuhan penjualan. Jika jumlah pesanan meningkat dari tahun ke tahun, ini menunjukkan pertumbuhan bisnis yang positif.\n",
        "*   Perencanaan Strategis: Data ini dapat digunakan untuk perencanaan sumber daya dan strategi pemasaran yang lebih baik, karena pemahaman tentang volume pesanan dapat membantu dalam pengelolaan inventaris dan penentuan target penjualan.\n"
      ],
      "metadata": {
        "id": "ILvCGrWmwgiK"
      }
    },
    {
      "cell_type": "markdown",
      "source": [
        "### Assesing Data"
      ],
      "metadata": {
        "id": "WU6zpOOgwxyj"
      }
    },
    {
      "cell_type": "markdown",
      "source": [
        "Menilai tabel orders"
      ],
      "metadata": {
        "id": "3j9Pbowax5Zg"
      }
    },
    {
      "cell_type": "code",
      "source": [
        "orders_df.info()\n"
      ],
      "metadata": {
        "colab": {
          "base_uri": "https://localhost:8080/"
        },
        "id": "S67QNvHIwhfc",
        "outputId": "9c5cd163-906c-4dc8-8a70-fa4403a06465"
      },
      "execution_count": 11,
      "outputs": [
        {
          "output_type": "stream",
          "name": "stdout",
          "text": [
            "<class 'pandas.core.frame.DataFrame'>\n",
            "RangeIndex: 99441 entries, 0 to 99440\n",
            "Data columns (total 8 columns):\n",
            " #   Column                         Non-Null Count  Dtype \n",
            "---  ------                         --------------  ----- \n",
            " 0   order_id                       99441 non-null  object\n",
            " 1   customer_id                    99441 non-null  object\n",
            " 2   order_status                   99441 non-null  object\n",
            " 3   order_purchase_timestamp       99441 non-null  object\n",
            " 4   order_approved_at              99281 non-null  object\n",
            " 5   order_delivered_carrier_date   97658 non-null  object\n",
            " 6   order_delivered_customer_date  96476 non-null  object\n",
            " 7   order_estimated_delivery_date  99441 non-null  object\n",
            "dtypes: object(8)\n",
            "memory usage: 6.1+ MB\n"
          ]
        }
      ]
    },
    {
      "cell_type": "code",
      "source": [
        "missing_values = orders_df.isna().sum()\n",
        "print(\"Jumlah nilai yang hilang di setiap kolom:\\n\", missing_values)\n"
      ],
      "metadata": {
        "colab": {
          "base_uri": "https://localhost:8080/"
        },
        "id": "-OoigsuBxq1L",
        "outputId": "f716990f-12b9-48ee-d336-0e649ad62862"
      },
      "execution_count": 12,
      "outputs": [
        {
          "output_type": "stream",
          "name": "stdout",
          "text": [
            "Jumlah nilai yang hilang di setiap kolom:\n",
            " order_id                            0\n",
            "customer_id                         0\n",
            "order_status                        0\n",
            "order_purchase_timestamp            0\n",
            "order_approved_at                 160\n",
            "order_delivered_carrier_date     1783\n",
            "order_delivered_customer_date    2965\n",
            "order_estimated_delivery_date       0\n",
            "dtype: int64\n"
          ]
        }
      ]
    },
    {
      "cell_type": "code",
      "source": [
        "duplicate_count = orders_df.duplicated().sum()\n",
        "print(\"Jumlah duplikasi pada value:\", duplicate_count)\n"
      ],
      "metadata": {
        "colab": {
          "base_uri": "https://localhost:8080/"
        },
        "id": "Ultkzv7mxxVj",
        "outputId": "4e6f130d-069a-4dc4-dac8-8d34674b9e26"
      },
      "execution_count": 13,
      "outputs": [
        {
          "output_type": "stream",
          "name": "stdout",
          "text": [
            "Jumlah duplikasi pada value: 0\n"
          ]
        }
      ]
    },
    {
      "cell_type": "markdown",
      "source": [
        "Menilai tabel product"
      ],
      "metadata": {
        "id": "ObyqSLIJyT3d"
      }
    },
    {
      "cell_type": "code",
      "source": [
        "product_df.info()"
      ],
      "metadata": {
        "colab": {
          "base_uri": "https://localhost:8080/"
        },
        "id": "lZReBwHvyZxC",
        "outputId": "ad5f8973-aac9-4730-8ed1-ac35073ddd51"
      },
      "execution_count": 14,
      "outputs": [
        {
          "output_type": "stream",
          "name": "stdout",
          "text": [
            "<class 'pandas.core.frame.DataFrame'>\n",
            "RangeIndex: 32951 entries, 0 to 32950\n",
            "Data columns (total 9 columns):\n",
            " #   Column                      Non-Null Count  Dtype  \n",
            "---  ------                      --------------  -----  \n",
            " 0   product_id                  32951 non-null  object \n",
            " 1   product_category_name       32341 non-null  object \n",
            " 2   product_name_lenght         32341 non-null  float64\n",
            " 3   product_description_lenght  32341 non-null  float64\n",
            " 4   product_photos_qty          32341 non-null  float64\n",
            " 5   product_weight_g            32949 non-null  float64\n",
            " 6   product_length_cm           32949 non-null  float64\n",
            " 7   product_height_cm           32949 non-null  float64\n",
            " 8   product_width_cm            32949 non-null  float64\n",
            "dtypes: float64(7), object(2)\n",
            "memory usage: 2.3+ MB\n"
          ]
        }
      ]
    },
    {
      "cell_type": "code",
      "source": [
        "missing_values = product_df.isna().sum()\n",
        "print(\"Jumlah nilai yang hilang di setiap kolom:\\n\", missing_values)\n"
      ],
      "metadata": {
        "colab": {
          "base_uri": "https://localhost:8080/"
        },
        "id": "6zEjQ6Q2ygRI",
        "outputId": "a5467327-5fa1-4fd5-c7fe-19715d9ef7bd"
      },
      "execution_count": 15,
      "outputs": [
        {
          "output_type": "stream",
          "name": "stdout",
          "text": [
            "Jumlah nilai yang hilang di setiap kolom:\n",
            " product_id                      0\n",
            "product_category_name         610\n",
            "product_name_lenght           610\n",
            "product_description_lenght    610\n",
            "product_photos_qty            610\n",
            "product_weight_g                2\n",
            "product_length_cm               2\n",
            "product_height_cm               2\n",
            "product_width_cm                2\n",
            "dtype: int64\n"
          ]
        }
      ]
    },
    {
      "cell_type": "code",
      "source": [
        "duplicate_count = product_df.duplicated().sum()\n",
        "print(\"Jumlah duplikasi pada value:\", duplicate_count)"
      ],
      "metadata": {
        "colab": {
          "base_uri": "https://localhost:8080/"
        },
        "id": "EyUBwkTwymDT",
        "outputId": "9c36159f-2519-4715-cf32-b270349898ea"
      },
      "execution_count": 16,
      "outputs": [
        {
          "output_type": "stream",
          "name": "stdout",
          "text": [
            "Jumlah duplikasi pada value: 0\n"
          ]
        }
      ]
    },
    {
      "cell_type": "markdown",
      "source": [
        "Menilai Tabel Order_reviews\n",
        "\n"
      ],
      "metadata": {
        "id": "bfZM-XX21fZE"
      }
    },
    {
      "cell_type": "code",
      "source": [
        "order_reviews_df.info()"
      ],
      "metadata": {
        "colab": {
          "base_uri": "https://localhost:8080/"
        },
        "id": "enjzM31e0-mi",
        "outputId": "2f0ce9b7-a5f9-4ad4-80cc-553206ae9e31"
      },
      "execution_count": 17,
      "outputs": [
        {
          "output_type": "stream",
          "name": "stdout",
          "text": [
            "<class 'pandas.core.frame.DataFrame'>\n",
            "RangeIndex: 99224 entries, 0 to 99223\n",
            "Data columns (total 7 columns):\n",
            " #   Column                   Non-Null Count  Dtype \n",
            "---  ------                   --------------  ----- \n",
            " 0   review_id                99224 non-null  object\n",
            " 1   order_id                 99224 non-null  object\n",
            " 2   review_score             99224 non-null  int64 \n",
            " 3   review_comment_title     11568 non-null  object\n",
            " 4   review_comment_message   40977 non-null  object\n",
            " 5   review_creation_date     99224 non-null  object\n",
            " 6   review_answer_timestamp  99224 non-null  object\n",
            "dtypes: int64(1), object(6)\n",
            "memory usage: 5.3+ MB\n"
          ]
        }
      ]
    },
    {
      "cell_type": "code",
      "source": [
        "missing_values = order_reviews_df.isna().sum()\n",
        "print(\"Jumlah nilai yang hilang di setiap kolom:\\n\", missing_values)"
      ],
      "metadata": {
        "colab": {
          "base_uri": "https://localhost:8080/"
        },
        "id": "jLdP7VKw1D-p",
        "outputId": "47bc4800-f7f4-45dc-f7ec-71c91f92c90e"
      },
      "execution_count": 18,
      "outputs": [
        {
          "output_type": "stream",
          "name": "stdout",
          "text": [
            "Jumlah nilai yang hilang di setiap kolom:\n",
            " review_id                      0\n",
            "order_id                       0\n",
            "review_score                   0\n",
            "review_comment_title       87656\n",
            "review_comment_message     58247\n",
            "review_creation_date           0\n",
            "review_answer_timestamp        0\n",
            "dtype: int64\n"
          ]
        }
      ]
    },
    {
      "cell_type": "code",
      "source": [
        "duplicate_count = order_reviews_df.duplicated().sum()\n",
        "print(\"Jumlah duplikasi pada value:\", duplicate_count)"
      ],
      "metadata": {
        "colab": {
          "base_uri": "https://localhost:8080/"
        },
        "id": "rsco0Jfn1Jzd",
        "outputId": "c87817ab-0df8-4045-97e2-617b07ebd95b"
      },
      "execution_count": 19,
      "outputs": [
        {
          "output_type": "stream",
          "name": "stdout",
          "text": [
            "Jumlah duplikasi pada value: 0\n"
          ]
        }
      ]
    },
    {
      "cell_type": "markdown",
      "source": [
        "Menilai Tabel Order_item"
      ],
      "metadata": {
        "id": "qWa_CFa62Vcn"
      }
    },
    {
      "cell_type": "code",
      "source": [
        "order_items_df.info()"
      ],
      "metadata": {
        "colab": {
          "base_uri": "https://localhost:8080/"
        },
        "id": "wv19OkUX1OZU",
        "outputId": "727d4306-c75c-475e-f0e5-924c5765dffa"
      },
      "execution_count": 20,
      "outputs": [
        {
          "output_type": "stream",
          "name": "stdout",
          "text": [
            "<class 'pandas.core.frame.DataFrame'>\n",
            "RangeIndex: 112650 entries, 0 to 112649\n",
            "Data columns (total 7 columns):\n",
            " #   Column               Non-Null Count   Dtype  \n",
            "---  ------               --------------   -----  \n",
            " 0   order_id             112650 non-null  object \n",
            " 1   order_item_id        112650 non-null  int64  \n",
            " 2   product_id           112650 non-null  object \n",
            " 3   seller_id            112650 non-null  object \n",
            " 4   shipping_limit_date  112650 non-null  object \n",
            " 5   price                112650 non-null  float64\n",
            " 6   freight_value        112650 non-null  float64\n",
            "dtypes: float64(2), int64(1), object(4)\n",
            "memory usage: 6.0+ MB\n"
          ]
        }
      ]
    },
    {
      "cell_type": "code",
      "source": [
        "missing_values = order_items_df.isna().sum()\n",
        "print(\"Jumlah nilai yang hilang di setiap kolom:\\n\", missing_values)"
      ],
      "metadata": {
        "colab": {
          "base_uri": "https://localhost:8080/"
        },
        "id": "nWGhffnZ1SS_",
        "outputId": "beb90e12-a71a-4e2f-e619-101fb1028e07"
      },
      "execution_count": 21,
      "outputs": [
        {
          "output_type": "stream",
          "name": "stdout",
          "text": [
            "Jumlah nilai yang hilang di setiap kolom:\n",
            " order_id               0\n",
            "order_item_id          0\n",
            "product_id             0\n",
            "seller_id              0\n",
            "shipping_limit_date    0\n",
            "price                  0\n",
            "freight_value          0\n",
            "dtype: int64\n"
          ]
        }
      ]
    },
    {
      "cell_type": "code",
      "source": [
        "duplicate_count = order_items_df.duplicated().sum()\n",
        "print(\"Jumlah duplikasi pada value:\", duplicate_count)"
      ],
      "metadata": {
        "colab": {
          "base_uri": "https://localhost:8080/"
        },
        "id": "ti--3Wtk1WwM",
        "outputId": "1dcdbe0e-5fbc-4071-fccc-83b49d37c612"
      },
      "execution_count": 22,
      "outputs": [
        {
          "output_type": "stream",
          "name": "stdout",
          "text": [
            "Jumlah duplikasi pada value: 0\n"
          ]
        }
      ]
    },
    {
      "cell_type": "markdown",
      "source": [
        "Menilai Tabel Order_payment"
      ],
      "metadata": {
        "id": "Awp2KUV82bu-"
      }
    },
    {
      "cell_type": "code",
      "source": [
        "order_payment_df.info()"
      ],
      "metadata": {
        "colab": {
          "base_uri": "https://localhost:8080/"
        },
        "id": "_PxM_Lgk2itd",
        "outputId": "be195dd7-c759-4184-e995-b18853d35451"
      },
      "execution_count": 23,
      "outputs": [
        {
          "output_type": "stream",
          "name": "stdout",
          "text": [
            "<class 'pandas.core.frame.DataFrame'>\n",
            "RangeIndex: 103886 entries, 0 to 103885\n",
            "Data columns (total 5 columns):\n",
            " #   Column                Non-Null Count   Dtype  \n",
            "---  ------                --------------   -----  \n",
            " 0   order_id              103886 non-null  object \n",
            " 1   payment_sequential    103886 non-null  int64  \n",
            " 2   payment_type          103886 non-null  object \n",
            " 3   payment_installments  103886 non-null  int64  \n",
            " 4   payment_value         103886 non-null  float64\n",
            "dtypes: float64(1), int64(2), object(2)\n",
            "memory usage: 4.0+ MB\n"
          ]
        }
      ]
    },
    {
      "cell_type": "code",
      "source": [
        "missing_values = order_payment_df.isna().sum()\n",
        "print(\"Jumlah nilai yang hilang di setiap kolom:\\n\", missing_values)"
      ],
      "metadata": {
        "colab": {
          "base_uri": "https://localhost:8080/"
        },
        "id": "zT_kps022pxs",
        "outputId": "7d0f7e0a-cc3d-41e6-e996-fa255b39ead6"
      },
      "execution_count": 24,
      "outputs": [
        {
          "output_type": "stream",
          "name": "stdout",
          "text": [
            "Jumlah nilai yang hilang di setiap kolom:\n",
            " order_id                0\n",
            "payment_sequential      0\n",
            "payment_type            0\n",
            "payment_installments    0\n",
            "payment_value           0\n",
            "dtype: int64\n"
          ]
        }
      ]
    },
    {
      "cell_type": "code",
      "source": [
        "duplicate_count = order_payment_df.duplicated().sum()\n",
        "print(\"Jumlah duplikasi pada value:\", duplicate_count)"
      ],
      "metadata": {
        "colab": {
          "base_uri": "https://localhost:8080/"
        },
        "id": "-5hmpPCd2uji",
        "outputId": "f219e00f-0b5c-4139-9227-15fb12fa3e9e"
      },
      "execution_count": 25,
      "outputs": [
        {
          "output_type": "stream",
          "name": "stdout",
          "text": [
            "Jumlah duplikasi pada value: 0\n"
          ]
        }
      ]
    },
    {
      "cell_type": "markdown",
      "source": [
        "Insight\n",
        "\n",
        "*   Terdapat beberapa kolom dengan nilai hilang di semua tabel, yang dapat memengaruhi analisis. Tabel orders_df menunjukkan nilai hilang di kolom yang berkaitan dengan pengiriman, sedangkan tabel product_df menunjukkan nilai hilang di kolom kategori dan deskripsi produk.\n",
        "*  Tidak ada duplikasi yang terdeteksi di semua tabel, menunjukkan bahwa data yang ada adalah unik dan konsisten.\n",
        "\n"
      ],
      "metadata": {
        "id": "EDXxG1yB3q_4"
      }
    },
    {
      "cell_type": "markdown",
      "source": [
        "### Cleaning data"
      ],
      "metadata": {
        "id": "Ou_o-WfX3-rR"
      }
    },
    {
      "cell_type": "code",
      "source": [
        "#tabel orders\n",
        "orders_df.dropna(inplace=True)  # Menghapus baris dengan nilai hilang\n",
        "orders_df['order_approved_at'] = pd.to_datetime(orders_df['order_approved_at'])  # Mengubah tipe data\n",
        "orders_df['order_delivered_carrier_date'] = pd.to_datetime(orders_df['order_delivered_carrier_date'])\n",
        "orders_df['order_delivered_customer_date'] = pd.to_datetime(orders_df['order_delivered_customer_date'])\n",
        "\n",
        "#tabel product\n",
        "product_df.loc[:, 'product_weight_g'] = product_df['product_weight_g'].fillna(product_df['product_weight_g'].median())\n",
        "product_df.loc[:, 'product_length_cm'] = product_df['product_length_cm'].fillna(product_df['product_length_cm'].median())\n",
        "product_df.loc[:, 'product_height_cm'] = product_df['product_height_cm'].fillna(product_df['product_height_cm'].median())\n",
        "product_df.loc[:, 'product_width_cm'] = product_df['product_width_cm'].fillna(product_df['product_width_cm'].median())\n",
        "\n",
        "#tabel order_reviews\n",
        "order_reviews_df.dropna(subset=['review_comment_title', 'review_comment_message'], inplace=True)  # Menghapus baris yang hilang pada kolom penting\n",
        "order_reviews_df['review_score'] = order_reviews_df['review_score'].astype(int)  # Memastikan tipe data\n",
        "\n",
        "#tabel order_payment\n",
        "order_payment_df['payment_type'] = order_payment_df['payment_type'].astype(str)  # Memastikan tipe data\n",
        "\n",
        "# Menghapus duplikasi (meskipun Anda sudah memastikan tidak ada duplikasi)\n",
        "orders_df.drop_duplicates(inplace=True)\n",
        "product_df.drop_duplicates(inplace=True)\n",
        "order_reviews_df.drop_duplicates(inplace=True)\n",
        "order_items_df.drop_duplicates(inplace=True)\n",
        "order_payment_df.drop_duplicates(inplace=True)\n",
        "\n",
        "print(\"Cleaning completed.\")"
      ],
      "metadata": {
        "colab": {
          "base_uri": "https://localhost:8080/"
        },
        "id": "thEhv77Z_Zth",
        "outputId": "7b04f16a-8e3c-4e41-d6dd-d8982c236a2d"
      },
      "execution_count": 26,
      "outputs": [
        {
          "output_type": "stream",
          "name": "stdout",
          "text": [
            "Cleaning completed.\n"
          ]
        }
      ]
    },
    {
      "cell_type": "markdown",
      "source": [
        "Insight\n",
        "*  Beberapa kolom di berbagai tabel memiliki nilai yang hilang. Ini perlu diperhatikan karena data yang hilang dapat mempengaruhi analisis lebih lanjut, seperti dalam mencari produk terlaris, metode pembayaran yang paling sering digunakan, distribusi skor ulasan, serta total pesanan per bulan.\n",
        "\n"
      ],
      "metadata": {
        "id": "KvHOkSCnAi5m"
      }
    },
    {
      "cell_type": "markdown",
      "source": [
        "## Exploratory Data Analysis (EDA)"
      ],
      "metadata": {
        "id": "g60BLpK87a8X"
      }
    },
    {
      "cell_type": "markdown",
      "source": [
        "### Explor 1"
      ],
      "metadata": {
        "id": "FfK_2RHx7ZnT"
      }
    },
    {
      "cell_type": "code",
      "source": [
        "\n",
        "# Menggabungkan order_items dengan orders untuk mendapatkan tanggal pemesanan\n",
        "merged_data = pd.merge(order_items_df, orders_df, on='order_id')\n",
        "\n",
        "# Menggabungkan data hasil merge dengan products untuk mendapatkan kategori produk\n",
        "final_data = pd.merge(merged_data, product_df, on='product_id')\n",
        "\n",
        "# Mengubah kolom order_purchase_timestamp ke format datetime\n",
        "final_data['order_purchase_timestamp'] = pd.to_datetime(final_data['order_purchase_timestamp'])\n",
        "\n",
        "# Menambahkan kolom tahun untuk memudahkan pengelompokan\n",
        "final_data['year'] = final_data['order_purchase_timestamp'].dt.year\n",
        "\n",
        "# Memfilter data untuk tahun 2016, 2017, dan 2018\n",
        "filtered_data = final_data[final_data['year'].isin([2016, 2017, 2018])]\n",
        "\n",
        "# Menghitung total penjualan per kategori produk dan tahun\n",
        "sales_per_category = filtered_data.groupby(['year', 'product_category_name'])['order_id'].count().reset_index()\n",
        "\n",
        "# Mengubah nama kolom untuk kejelasan\n",
        "sales_per_category.columns = ['year', 'product_category_name', 'total_sales']\n",
        "\n",
        "# Menampilkan 10 kategori terlaris untuk setiap tahun\n",
        "for year in [2016, 2017, 2018]:\n",
        "    print(f\"10 Kategori Produk Terlaris Tahun {year}:\")\n",
        "    top_categories = sales_per_category[sales_per_category['year'] == year].sort_values(by='total_sales', ascending=False).head(10)\n",
        "    print(top_categories)\n",
        "    print(\"\\n\")  # Menambahkan spasi antara tahun"
      ],
      "metadata": {
        "colab": {
          "base_uri": "https://localhost:8080/"
        },
        "id": "wk8OgI1FWojc",
        "outputId": "8db108cb-c77b-4b8f-ab1a-840cf362629b"
      },
      "execution_count": 39,
      "outputs": [
        {
          "output_type": "stream",
          "name": "stdout",
          "text": [
            "10 Kategori Produk Terlaris Tahun 2016:\n",
            "    year        product_category_name  total_sales\n",
            "21  2016             moveis_decoracao           65\n",
            "4   2016                 beleza_saude           44\n",
            "23  2016                   perfumaria           31\n",
            "5   2016                   brinquedos           25\n",
            "11  2016                esporte_lazer           18\n",
            "19  2016       informatica_acessorios           12\n",
            "28  2016        utilidades_domesticas           12\n",
            "3   2016                        bebes           11\n",
            "20  2016                 market_place           11\n",
            "12  2016  fashion_bolsas_e_acessorios           10\n",
            "\n",
            "\n",
            "10 Kategori Produk Terlaris Tahun 2017:\n",
            "     year   product_category_name  total_sales\n",
            "42   2017         cama_mesa_banho         5134\n",
            "83   2017        moveis_decoracao         4040\n",
            "61   2017           esporte_lazer         3975\n",
            "40   2017            beleza_saude         3581\n",
            "73   2017  informatica_acessorios         3010\n",
            "100  2017   utilidades_domesticas         2814\n",
            "41   2017              brinquedos         2552\n",
            "69   2017      ferramentas_jardim         2413\n",
            "55   2017              cool_stuff         2261\n",
            "94   2017      relogios_presentes         2227\n",
            "\n",
            "\n",
            "10 Kategori Produk Terlaris Tahun 2018:\n",
            "     year   product_category_name  total_sales\n",
            "112  2018            beleza_saude         5842\n",
            "114  2018         cama_mesa_banho         5810\n",
            "145  2018  informatica_acessorios         4621\n",
            "133  2018           esporte_lazer         4436\n",
            "155  2018        moveis_decoracao         4051\n",
            "172  2018   utilidades_domesticas         3969\n",
            "167  2018      relogios_presentes         3626\n",
            "109  2018              automotivo         2580\n",
            "170  2018               telefonia         2293\n",
            "141  2018      ferramentas_jardim         1849\n",
            "\n",
            "\n"
          ]
        }
      ]
    },
    {
      "cell_type": "markdown",
      "source": [
        "Insight\n",
        "\n",
        "Dari analisis kategori produk terlaris tahun 2016 hingga 2018, terlihat bahwa kategori Beleza e Saúde, Moveis e Decoracao, dan Esporte e Lazer konsisten muncul setiap tahun, dengan Beleza e Saúde mengalami lonjakan penjualan signifikan, dari 44 di 2016 menjadi 5,842 di 2018. Kategori Cama, Mesa e Banho juga dominan pada tahun 2017 dengan 5,134 penjualan, menunjukkan fokus pada kebutuhan rumah tangga. Munculnya kategori baru seperti Automotivo dan Telefonia pada 2018 mencerminkan diversifikasi minat konsumen, sementara kategori seperti Brinquedos menunjukkan penurunan permintaan."
      ],
      "metadata": {
        "id": "cODZPvPPci-Z"
      }
    },
    {
      "cell_type": "markdown",
      "source": [
        "### Explor 2"
      ],
      "metadata": {
        "id": "dQkbbh3N7m2n"
      }
    },
    {
      "cell_type": "code",
      "source": [
        "# Menggabungkan data orders dengan order_payment\n",
        "payment_df = orders_df.merge(order_payment_df, on='order_id')\n",
        "\n",
        "# Menghitung frekuensi metode pembayaran dan rata-rata nilai pesanan\n",
        "payment_summary = payment_df.groupby('payment_type').agg(\n",
        "    frequency=('order_id', 'count'),\n",
        "    average_order_value=('payment_value', 'mean')\n",
        ").reset_index()\n",
        "\n",
        "# Menampilkan ringkasan metode pembayaran\n",
        "print(\"Ringkasan metode pembayaran:\\n\", payment_summary)\n"
      ],
      "metadata": {
        "colab": {
          "base_uri": "https://localhost:8080/"
        },
        "id": "k_oj05_9JBAp",
        "outputId": "ba39fecf-cae4-45ba-beef-2f0392bc1d6b"
      },
      "execution_count": null,
      "outputs": [
        {
          "output_type": "stream",
          "name": "stdout",
          "text": [
            "Ringkasan metode pembayaran:\n",
            "   payment_type  frequency  average_order_value\n",
            "0       boleto      19177           144.338425\n",
            "1  credit_card      74584           162.241564\n",
            "2   debit_card       1485           140.112377\n",
            "3      voucher       5493            62.445511\n"
          ]
        }
      ]
    },
    {
      "cell_type": "markdown",
      "source": [
        "Insight\n",
        "\n",
        "\n",
        "*   Kartu Kredit adalah metode paling populer dengan 74.584 transaksi dan rata-rata nilai pesanan tertinggi (162.24).\n",
        "\n",
        "\n",
        "\n",
        "\n"
      ],
      "metadata": {
        "id": "1TSoUrL4NQwI"
      }
    },
    {
      "cell_type": "markdown",
      "source": [
        "### Explor 3"
      ],
      "metadata": {
        "id": "DdTuuFhu7oAj"
      }
    },
    {
      "cell_type": "code",
      "source": [
        "\n",
        "# Menyiapkan untuk menghitung rata-rata skor ulasan per kategori produk untuk 10 produk terlaris setiap tahun\n",
        "average_review_scores = {}\n",
        "for year in [2016, 2017, 2018]:\n",
        "    top_categories = top_categories_per_year[year]\n",
        "    filtered_reviews = reviews_merged_df[reviews_merged_df['product_category_name'].isin(top_categories)]\n",
        "\n",
        "    # Menghitung rata-rata skor ulasan per kategori produk\n",
        "    category_review_scores = filtered_reviews.groupby('product_category_name')['review_score'].mean().reset_index(name='average_review_score')\n",
        "\n",
        "    # Mengurutkan berdasarkan rata-rata skor ulasan dari yang tertinggi\n",
        "    category_review_scores = category_review_scores.sort_values(by='average_review_score', ascending=False)\n",
        "\n",
        "    average_review_scores[year] = category_review_scores\n",
        "\n",
        "# Menampilkan rata-rata skor ulasan yang diurutkan\n",
        "for year, scores in average_review_scores.items():\n",
        "    print(f\"\\nRata-rata Skor Ulasan Kategori Produk Terlaris Tahun {year}:\\n\", scores[['product_category_name', 'average_review_score']])"
      ],
      "metadata": {
        "colab": {
          "base_uri": "https://localhost:8080/"
        },
        "id": "0J9UUssQdozo",
        "outputId": "7ff7bc63-600c-4b11-e996-dce85480ddac"
      },
      "execution_count": 54,
      "outputs": [
        {
          "output_type": "stream",
          "name": "stdout",
          "text": [
            "\n",
            "Rata-rata Skor Ulasan Kategori Produk Terlaris Tahun 2016:\n",
            "          product_category_name  average_review_score\n",
            "4  fashion_bolsas_e_acessorios              4.090361\n",
            "8                   perfumaria              4.034965\n",
            "2                   brinquedos              3.909774\n",
            "1                 beleza_saude              3.876026\n",
            "3                esporte_lazer              3.870572\n",
            "9        utilidades_domesticas              3.641054\n",
            "5       informatica_acessorios              3.567954\n",
            "7             moveis_decoracao              3.544304\n",
            "0                        bebes              3.531915\n",
            "6                 market_place              2.916667\n",
            "\n",
            "Rata-rata Skor Ulasan Kategori Produk Terlaris Tahun 2017:\n",
            "     product_category_name  average_review_score\n",
            "5      ferramentas_jardim              4.005479\n",
            "1              brinquedos              3.909774\n",
            "3              cool_stuff              3.878924\n",
            "0            beleza_saude              3.876026\n",
            "4           esporte_lazer              3.870572\n",
            "8      relogios_presentes              3.648328\n",
            "9   utilidades_domesticas              3.641054\n",
            "2         cama_mesa_banho              3.639219\n",
            "6  informatica_acessorios              3.567954\n",
            "7        moveis_decoracao              3.544304\n",
            "\n",
            "Rata-rata Skor Ulasan Kategori Produk Terlaris Tahun 2018:\n",
            "     product_category_name  average_review_score\n",
            "4      ferramentas_jardim              4.005479\n",
            "1            beleza_saude              3.876026\n",
            "3           esporte_lazer              3.870572\n",
            "0              automotivo              3.783636\n",
            "8               telefonia              3.677273\n",
            "7      relogios_presentes              3.648328\n",
            "9   utilidades_domesticas              3.641054\n",
            "2         cama_mesa_banho              3.639219\n",
            "5  informatica_acessorios              3.567954\n",
            "6        moveis_decoracao              3.544304\n"
          ]
        }
      ]
    },
    {
      "cell_type": "markdown",
      "source": [
        "insight\n",
        "\n",
        "\n",
        "*  Analisis rata-rata skor ulasan per produk menunjukkan bahwa kategori dengan skor tinggi mencerminkan produk berkualitas baik, sementara kategori dengan skor rendah menandakan potensi masalah yang memerlukan perhatian. Berdasarkan analisis rata-rata skor ulasan untuk kategori produk terlaris tahun 2016, 2017, dan 2018, kita dapat menyimpulkan bahwa kinerja kategori produk bervariasi dalam hal kepuasan pelanggan, di mana perbandingan skor ulasan membantu mengidentifikasi kategori dengan penjualan tinggi dan ulasan positif. Tren kepuasan pelanggan dari tahun ke tahun dapat menunjukkan kebutuhan perbaikan, dan fokus pada kategori produk dengan ulasan tinggi dapat meningkatkan pengembangan dan pemasaran. Data ini juga berguna untuk merancang strategi pemasaran yang lebih efektif serta memberikan wawasan mengenai aspek spesifik produk yang disukai atau tidak disukai pelanggan, memungkinkan penyesuaian yang diperlukan untuk meningkatkan pengalaman pelanggan.\n"
      ],
      "metadata": {
        "id": "aqbLciQzOmvS"
      }
    },
    {
      "cell_type": "markdown",
      "source": [
        "### Explor 4"
      ],
      "metadata": {
        "id": "pm4JEhaD7o4T"
      }
    },
    {
      "cell_type": "code",
      "source": [
        "# Mengonversi kolom tanggal\n",
        "orders_df['order_purchase_timestamp'] = pd.to_datetime(orders_df['order_purchase_timestamp'])\n",
        "\n",
        "# Menghitung jumlah total pesanan berdasarkan tahun\n",
        "annual_orders = orders_df.groupby(orders_df['order_purchase_timestamp'].dt.year).size().reset_index(name='total_orders')\n",
        "\n",
        "# Menamai kolom untuk kejelasan\n",
        "annual_orders.columns = ['year', 'total_orders']\n",
        "\n",
        "# Menampilkan jumlah total pesanan berdasarkan tahun\n",
        "print(\"Jumlah total pesanan berdasarkan tahun:\\n\", annual_orders)"
      ],
      "metadata": {
        "colab": {
          "base_uri": "https://localhost:8080/"
        },
        "id": "y0gJjKq4RHlj",
        "outputId": "28d96a83-fcb0-418f-ca78-4c4ef500987a"
      },
      "execution_count": 32,
      "outputs": [
        {
          "output_type": "stream",
          "name": "stdout",
          "text": [
            "Jumlah total pesanan berdasarkan tahun:\n",
            "    year  total_orders\n",
            "0  2016           272\n",
            "1  2017         43411\n",
            "2  2018         52778\n"
          ]
        }
      ]
    },
    {
      "cell_type": "markdown",
      "source": [
        "Insight\n",
        "\n",
        "Analisis jumlah total pesanan berdasarkan tahun menunjukkan tren pertumbuhan yang signifikan dalam volume pesanan dari tahun 2016 hingga 2018. Pada tahun 2016, total pesanan hanya mencapai 272, tetapi meningkat secara drastis menjadi 43.411 pada tahun 2017, dan terus tumbuh menjadi 52.778 pada tahun 2018. Kenaikan ini menunjukkan bahwa bisnis mengalami pertumbuhan yang kuat dalam permintaan atau penerimaan pasar, mencerminkan potensi ekspansi yang lebih besar."
      ],
      "metadata": {
        "id": "pmhA_8kmfWPA"
      }
    },
    {
      "cell_type": "markdown",
      "source": [
        "## Visualization & Explanatory Analysis"
      ],
      "metadata": {
        "id": "L7xySRWJUxxh"
      }
    },
    {
      "cell_type": "markdown",
      "source": [
        "### Pertanyaan 1"
      ],
      "metadata": {
        "id": "t8tEzU-yU0RY"
      }
    },
    {
      "cell_type": "code",
      "source": [
        "\n",
        "# Membuat fungsi untuk memvisualisasikan kategori terlaris per tahun\n",
        "def plot_top_categories(year):\n",
        "    top_categories = sales_per_category[sales_per_category['year'] == year].sort_values(by='total_sales', ascending=False).head(10)\n",
        "\n",
        "    fig = px.bar(top_categories,\n",
        "                 x='total_sales',\n",
        "                 y='product_category_name',\n",
        "                 title=f'Top 10 Kategori Produk Terlaris Tahun {year}',\n",
        "                 labels={'total_sales': 'Total Penjualan', 'product_category_name': 'Kategori Produk'},\n",
        "                 text='total_sales',\n",
        "                 orientation='h',  # Orientasi horizontal\n",
        "                 color_discrete_sequence=['#ADD8E6'])  # Warna biru muda (kode hex)\n",
        "\n",
        "    fig.update_traces(texttemplate='%{text:.2s}', textposition='outside')\n",
        "    fig.update_layout(showlegend=False)\n",
        "\n",
        "    return fig\n",
        "\n",
        "# Visualisasikan untuk tahun 2016, 2017, dan 2018\n",
        "fig_2016 = plot_top_categories(2016)\n",
        "fig_2017 = plot_top_categories(2017)\n",
        "fig_2018 = plot_top_categories(2018)\n",
        "\n",
        "# Menampilkan grafik untuk setiap tahun\n",
        "fig_2016.show()\n",
        "fig_2017.show()\n",
        "fig_2018.show()"
      ],
      "metadata": {
        "colab": {
          "base_uri": "https://localhost:8080/",
          "height": 1000
        },
        "id": "TBHDOZ_zYREL",
        "outputId": "9e28ec4d-f98c-48a2-dcf5-2096ede00dd4"
      },
      "execution_count": 50,
      "outputs": [
        {
          "output_type": "display_data",
          "data": {
            "text/html": [
              "<html>\n",
              "<head><meta charset=\"utf-8\" /></head>\n",
              "<body>\n",
              "    <div>            <script src=\"https://cdnjs.cloudflare.com/ajax/libs/mathjax/2.7.5/MathJax.js?config=TeX-AMS-MML_SVG\"></script><script type=\"text/javascript\">if (window.MathJax && window.MathJax.Hub && window.MathJax.Hub.Config) {window.MathJax.Hub.Config({SVG: {font: \"STIX-Web\"}});}</script>                <script type=\"text/javascript\">window.PlotlyConfig = {MathJaxConfig: 'local'};</script>\n",
              "        <script charset=\"utf-8\" src=\"https://cdn.plot.ly/plotly-2.35.2.min.js\"></script>                <div id=\"7f1803f9-b618-48f8-9918-c2ff36eefbfa\" class=\"plotly-graph-div\" style=\"height:525px; width:100%;\"></div>            <script type=\"text/javascript\">                                    window.PLOTLYENV=window.PLOTLYENV || {};                                    if (document.getElementById(\"7f1803f9-b618-48f8-9918-c2ff36eefbfa\")) {                    Plotly.newPlot(                        \"7f1803f9-b618-48f8-9918-c2ff36eefbfa\",                        [{\"alignmentgroup\":\"True\",\"hovertemplate\":\"Total Penjualan=%{text}\\u003cbr\\u003eKategori Produk=%{y}\\u003cextra\\u003e\\u003c\\u002fextra\\u003e\",\"legendgroup\":\"\",\"marker\":{\"color\":\"#ADD8E6\",\"pattern\":{\"shape\":\"\"}},\"name\":\"\",\"offsetgroup\":\"\",\"orientation\":\"h\",\"showlegend\":false,\"text\":[65.0,44.0,31.0,25.0,18.0,12.0,12.0,11.0,11.0,10.0],\"textposition\":\"outside\",\"x\":[65,44,31,25,18,12,12,11,11,10],\"xaxis\":\"x\",\"y\":[\"moveis_decoracao\",\"beleza_saude\",\"perfumaria\",\"brinquedos\",\"esporte_lazer\",\"informatica_acessorios\",\"utilidades_domesticas\",\"bebes\",\"market_place\",\"fashion_bolsas_e_acessorios\"],\"yaxis\":\"y\",\"type\":\"bar\",\"texttemplate\":\"%{text:.2s}\"}],                        {\"template\":{\"data\":{\"histogram2dcontour\":[{\"type\":\"histogram2dcontour\",\"colorbar\":{\"outlinewidth\":0,\"ticks\":\"\"},\"colorscale\":[[0.0,\"#0d0887\"],[0.1111111111111111,\"#46039f\"],[0.2222222222222222,\"#7201a8\"],[0.3333333333333333,\"#9c179e\"],[0.4444444444444444,\"#bd3786\"],[0.5555555555555556,\"#d8576b\"],[0.6666666666666666,\"#ed7953\"],[0.7777777777777778,\"#fb9f3a\"],[0.8888888888888888,\"#fdca26\"],[1.0,\"#f0f921\"]]}],\"choropleth\":[{\"type\":\"choropleth\",\"colorbar\":{\"outlinewidth\":0,\"ticks\":\"\"}}],\"histogram2d\":[{\"type\":\"histogram2d\",\"colorbar\":{\"outlinewidth\":0,\"ticks\":\"\"},\"colorscale\":[[0.0,\"#0d0887\"],[0.1111111111111111,\"#46039f\"],[0.2222222222222222,\"#7201a8\"],[0.3333333333333333,\"#9c179e\"],[0.4444444444444444,\"#bd3786\"],[0.5555555555555556,\"#d8576b\"],[0.6666666666666666,\"#ed7953\"],[0.7777777777777778,\"#fb9f3a\"],[0.8888888888888888,\"#fdca26\"],[1.0,\"#f0f921\"]]}],\"heatmap\":[{\"type\":\"heatmap\",\"colorbar\":{\"outlinewidth\":0,\"ticks\":\"\"},\"colorscale\":[[0.0,\"#0d0887\"],[0.1111111111111111,\"#46039f\"],[0.2222222222222222,\"#7201a8\"],[0.3333333333333333,\"#9c179e\"],[0.4444444444444444,\"#bd3786\"],[0.5555555555555556,\"#d8576b\"],[0.6666666666666666,\"#ed7953\"],[0.7777777777777778,\"#fb9f3a\"],[0.8888888888888888,\"#fdca26\"],[1.0,\"#f0f921\"]]}],\"heatmapgl\":[{\"type\":\"heatmapgl\",\"colorbar\":{\"outlinewidth\":0,\"ticks\":\"\"},\"colorscale\":[[0.0,\"#0d0887\"],[0.1111111111111111,\"#46039f\"],[0.2222222222222222,\"#7201a8\"],[0.3333333333333333,\"#9c179e\"],[0.4444444444444444,\"#bd3786\"],[0.5555555555555556,\"#d8576b\"],[0.6666666666666666,\"#ed7953\"],[0.7777777777777778,\"#fb9f3a\"],[0.8888888888888888,\"#fdca26\"],[1.0,\"#f0f921\"]]}],\"contourcarpet\":[{\"type\":\"contourcarpet\",\"colorbar\":{\"outlinewidth\":0,\"ticks\":\"\"}}],\"contour\":[{\"type\":\"contour\",\"colorbar\":{\"outlinewidth\":0,\"ticks\":\"\"},\"colorscale\":[[0.0,\"#0d0887\"],[0.1111111111111111,\"#46039f\"],[0.2222222222222222,\"#7201a8\"],[0.3333333333333333,\"#9c179e\"],[0.4444444444444444,\"#bd3786\"],[0.5555555555555556,\"#d8576b\"],[0.6666666666666666,\"#ed7953\"],[0.7777777777777778,\"#fb9f3a\"],[0.8888888888888888,\"#fdca26\"],[1.0,\"#f0f921\"]]}],\"surface\":[{\"type\":\"surface\",\"colorbar\":{\"outlinewidth\":0,\"ticks\":\"\"},\"colorscale\":[[0.0,\"#0d0887\"],[0.1111111111111111,\"#46039f\"],[0.2222222222222222,\"#7201a8\"],[0.3333333333333333,\"#9c179e\"],[0.4444444444444444,\"#bd3786\"],[0.5555555555555556,\"#d8576b\"],[0.6666666666666666,\"#ed7953\"],[0.7777777777777778,\"#fb9f3a\"],[0.8888888888888888,\"#fdca26\"],[1.0,\"#f0f921\"]]}],\"mesh3d\":[{\"type\":\"mesh3d\",\"colorbar\":{\"outlinewidth\":0,\"ticks\":\"\"}}],\"scatter\":[{\"fillpattern\":{\"fillmode\":\"overlay\",\"size\":10,\"solidity\":0.2},\"type\":\"scatter\"}],\"parcoords\":[{\"type\":\"parcoords\",\"line\":{\"colorbar\":{\"outlinewidth\":0,\"ticks\":\"\"}}}],\"scatterpolargl\":[{\"type\":\"scatterpolargl\",\"marker\":{\"colorbar\":{\"outlinewidth\":0,\"ticks\":\"\"}}}],\"bar\":[{\"error_x\":{\"color\":\"#2a3f5f\"},\"error_y\":{\"color\":\"#2a3f5f\"},\"marker\":{\"line\":{\"color\":\"#E5ECF6\",\"width\":0.5},\"pattern\":{\"fillmode\":\"overlay\",\"size\":10,\"solidity\":0.2}},\"type\":\"bar\"}],\"scattergeo\":[{\"type\":\"scattergeo\",\"marker\":{\"colorbar\":{\"outlinewidth\":0,\"ticks\":\"\"}}}],\"scatterpolar\":[{\"type\":\"scatterpolar\",\"marker\":{\"colorbar\":{\"outlinewidth\":0,\"ticks\":\"\"}}}],\"histogram\":[{\"marker\":{\"pattern\":{\"fillmode\":\"overlay\",\"size\":10,\"solidity\":0.2}},\"type\":\"histogram\"}],\"scattergl\":[{\"type\":\"scattergl\",\"marker\":{\"colorbar\":{\"outlinewidth\":0,\"ticks\":\"\"}}}],\"scatter3d\":[{\"type\":\"scatter3d\",\"line\":{\"colorbar\":{\"outlinewidth\":0,\"ticks\":\"\"}},\"marker\":{\"colorbar\":{\"outlinewidth\":0,\"ticks\":\"\"}}}],\"scattermapbox\":[{\"type\":\"scattermapbox\",\"marker\":{\"colorbar\":{\"outlinewidth\":0,\"ticks\":\"\"}}}],\"scatterternary\":[{\"type\":\"scatterternary\",\"marker\":{\"colorbar\":{\"outlinewidth\":0,\"ticks\":\"\"}}}],\"scattercarpet\":[{\"type\":\"scattercarpet\",\"marker\":{\"colorbar\":{\"outlinewidth\":0,\"ticks\":\"\"}}}],\"carpet\":[{\"aaxis\":{\"endlinecolor\":\"#2a3f5f\",\"gridcolor\":\"white\",\"linecolor\":\"white\",\"minorgridcolor\":\"white\",\"startlinecolor\":\"#2a3f5f\"},\"baxis\":{\"endlinecolor\":\"#2a3f5f\",\"gridcolor\":\"white\",\"linecolor\":\"white\",\"minorgridcolor\":\"white\",\"startlinecolor\":\"#2a3f5f\"},\"type\":\"carpet\"}],\"table\":[{\"cells\":{\"fill\":{\"color\":\"#EBF0F8\"},\"line\":{\"color\":\"white\"}},\"header\":{\"fill\":{\"color\":\"#C8D4E3\"},\"line\":{\"color\":\"white\"}},\"type\":\"table\"}],\"barpolar\":[{\"marker\":{\"line\":{\"color\":\"#E5ECF6\",\"width\":0.5},\"pattern\":{\"fillmode\":\"overlay\",\"size\":10,\"solidity\":0.2}},\"type\":\"barpolar\"}],\"pie\":[{\"automargin\":true,\"type\":\"pie\"}]},\"layout\":{\"autotypenumbers\":\"strict\",\"colorway\":[\"#636efa\",\"#EF553B\",\"#00cc96\",\"#ab63fa\",\"#FFA15A\",\"#19d3f3\",\"#FF6692\",\"#B6E880\",\"#FF97FF\",\"#FECB52\"],\"font\":{\"color\":\"#2a3f5f\"},\"hovermode\":\"closest\",\"hoverlabel\":{\"align\":\"left\"},\"paper_bgcolor\":\"white\",\"plot_bgcolor\":\"#E5ECF6\",\"polar\":{\"bgcolor\":\"#E5ECF6\",\"angularaxis\":{\"gridcolor\":\"white\",\"linecolor\":\"white\",\"ticks\":\"\"},\"radialaxis\":{\"gridcolor\":\"white\",\"linecolor\":\"white\",\"ticks\":\"\"}},\"ternary\":{\"bgcolor\":\"#E5ECF6\",\"aaxis\":{\"gridcolor\":\"white\",\"linecolor\":\"white\",\"ticks\":\"\"},\"baxis\":{\"gridcolor\":\"white\",\"linecolor\":\"white\",\"ticks\":\"\"},\"caxis\":{\"gridcolor\":\"white\",\"linecolor\":\"white\",\"ticks\":\"\"}},\"coloraxis\":{\"colorbar\":{\"outlinewidth\":0,\"ticks\":\"\"}},\"colorscale\":{\"sequential\":[[0.0,\"#0d0887\"],[0.1111111111111111,\"#46039f\"],[0.2222222222222222,\"#7201a8\"],[0.3333333333333333,\"#9c179e\"],[0.4444444444444444,\"#bd3786\"],[0.5555555555555556,\"#d8576b\"],[0.6666666666666666,\"#ed7953\"],[0.7777777777777778,\"#fb9f3a\"],[0.8888888888888888,\"#fdca26\"],[1.0,\"#f0f921\"]],\"sequentialminus\":[[0.0,\"#0d0887\"],[0.1111111111111111,\"#46039f\"],[0.2222222222222222,\"#7201a8\"],[0.3333333333333333,\"#9c179e\"],[0.4444444444444444,\"#bd3786\"],[0.5555555555555556,\"#d8576b\"],[0.6666666666666666,\"#ed7953\"],[0.7777777777777778,\"#fb9f3a\"],[0.8888888888888888,\"#fdca26\"],[1.0,\"#f0f921\"]],\"diverging\":[[0,\"#8e0152\"],[0.1,\"#c51b7d\"],[0.2,\"#de77ae\"],[0.3,\"#f1b6da\"],[0.4,\"#fde0ef\"],[0.5,\"#f7f7f7\"],[0.6,\"#e6f5d0\"],[0.7,\"#b8e186\"],[0.8,\"#7fbc41\"],[0.9,\"#4d9221\"],[1,\"#276419\"]]},\"xaxis\":{\"gridcolor\":\"white\",\"linecolor\":\"white\",\"ticks\":\"\",\"title\":{\"standoff\":15},\"zerolinecolor\":\"white\",\"automargin\":true,\"zerolinewidth\":2},\"yaxis\":{\"gridcolor\":\"white\",\"linecolor\":\"white\",\"ticks\":\"\",\"title\":{\"standoff\":15},\"zerolinecolor\":\"white\",\"automargin\":true,\"zerolinewidth\":2},\"scene\":{\"xaxis\":{\"backgroundcolor\":\"#E5ECF6\",\"gridcolor\":\"white\",\"linecolor\":\"white\",\"showbackground\":true,\"ticks\":\"\",\"zerolinecolor\":\"white\",\"gridwidth\":2},\"yaxis\":{\"backgroundcolor\":\"#E5ECF6\",\"gridcolor\":\"white\",\"linecolor\":\"white\",\"showbackground\":true,\"ticks\":\"\",\"zerolinecolor\":\"white\",\"gridwidth\":2},\"zaxis\":{\"backgroundcolor\":\"#E5ECF6\",\"gridcolor\":\"white\",\"linecolor\":\"white\",\"showbackground\":true,\"ticks\":\"\",\"zerolinecolor\":\"white\",\"gridwidth\":2}},\"shapedefaults\":{\"line\":{\"color\":\"#2a3f5f\"}},\"annotationdefaults\":{\"arrowcolor\":\"#2a3f5f\",\"arrowhead\":0,\"arrowwidth\":1},\"geo\":{\"bgcolor\":\"white\",\"landcolor\":\"#E5ECF6\",\"subunitcolor\":\"white\",\"showland\":true,\"showlakes\":true,\"lakecolor\":\"white\"},\"title\":{\"x\":0.05},\"mapbox\":{\"style\":\"light\"}}},\"xaxis\":{\"anchor\":\"y\",\"domain\":[0.0,1.0],\"title\":{\"text\":\"Total Penjualan\"}},\"yaxis\":{\"anchor\":\"x\",\"domain\":[0.0,1.0],\"title\":{\"text\":\"Kategori Produk\"}},\"legend\":{\"tracegroupgap\":0},\"title\":{\"text\":\"Top 10 Kategori Produk Terlaris Tahun 2016\"},\"barmode\":\"relative\",\"showlegend\":false},                        {\"responsive\": true}                    ).then(function(){\n",
              "                            \n",
              "var gd = document.getElementById('7f1803f9-b618-48f8-9918-c2ff36eefbfa');\n",
              "var x = new MutationObserver(function (mutations, observer) {{\n",
              "        var display = window.getComputedStyle(gd).display;\n",
              "        if (!display || display === 'none') {{\n",
              "            console.log([gd, 'removed!']);\n",
              "            Plotly.purge(gd);\n",
              "            observer.disconnect();\n",
              "        }}\n",
              "}});\n",
              "\n",
              "// Listen for the removal of the full notebook cells\n",
              "var notebookContainer = gd.closest('#notebook-container');\n",
              "if (notebookContainer) {{\n",
              "    x.observe(notebookContainer, {childList: true});\n",
              "}}\n",
              "\n",
              "// Listen for the clearing of the current output cell\n",
              "var outputEl = gd.closest('.output');\n",
              "if (outputEl) {{\n",
              "    x.observe(outputEl, {childList: true});\n",
              "}}\n",
              "\n",
              "                        })                };                            </script>        </div>\n",
              "</body>\n",
              "</html>"
            ]
          },
          "metadata": {}
        },
        {
          "output_type": "display_data",
          "data": {
            "text/html": [
              "<html>\n",
              "<head><meta charset=\"utf-8\" /></head>\n",
              "<body>\n",
              "    <div>            <script src=\"https://cdnjs.cloudflare.com/ajax/libs/mathjax/2.7.5/MathJax.js?config=TeX-AMS-MML_SVG\"></script><script type=\"text/javascript\">if (window.MathJax && window.MathJax.Hub && window.MathJax.Hub.Config) {window.MathJax.Hub.Config({SVG: {font: \"STIX-Web\"}});}</script>                <script type=\"text/javascript\">window.PlotlyConfig = {MathJaxConfig: 'local'};</script>\n",
              "        <script charset=\"utf-8\" src=\"https://cdn.plot.ly/plotly-2.35.2.min.js\"></script>                <div id=\"b031ec6d-180b-4c90-b4b7-8111821f3128\" class=\"plotly-graph-div\" style=\"height:525px; width:100%;\"></div>            <script type=\"text/javascript\">                                    window.PLOTLYENV=window.PLOTLYENV || {};                                    if (document.getElementById(\"b031ec6d-180b-4c90-b4b7-8111821f3128\")) {                    Plotly.newPlot(                        \"b031ec6d-180b-4c90-b4b7-8111821f3128\",                        [{\"alignmentgroup\":\"True\",\"hovertemplate\":\"Total Penjualan=%{text}\\u003cbr\\u003eKategori Produk=%{y}\\u003cextra\\u003e\\u003c\\u002fextra\\u003e\",\"legendgroup\":\"\",\"marker\":{\"color\":\"#ADD8E6\",\"pattern\":{\"shape\":\"\"}},\"name\":\"\",\"offsetgroup\":\"\",\"orientation\":\"h\",\"showlegend\":false,\"text\":[5134.0,4040.0,3975.0,3581.0,3010.0,2814.0,2552.0,2413.0,2261.0,2227.0],\"textposition\":\"outside\",\"x\":[5134,4040,3975,3581,3010,2814,2552,2413,2261,2227],\"xaxis\":\"x\",\"y\":[\"cama_mesa_banho\",\"moveis_decoracao\",\"esporte_lazer\",\"beleza_saude\",\"informatica_acessorios\",\"utilidades_domesticas\",\"brinquedos\",\"ferramentas_jardim\",\"cool_stuff\",\"relogios_presentes\"],\"yaxis\":\"y\",\"type\":\"bar\",\"texttemplate\":\"%{text:.2s}\"}],                        {\"template\":{\"data\":{\"histogram2dcontour\":[{\"type\":\"histogram2dcontour\",\"colorbar\":{\"outlinewidth\":0,\"ticks\":\"\"},\"colorscale\":[[0.0,\"#0d0887\"],[0.1111111111111111,\"#46039f\"],[0.2222222222222222,\"#7201a8\"],[0.3333333333333333,\"#9c179e\"],[0.4444444444444444,\"#bd3786\"],[0.5555555555555556,\"#d8576b\"],[0.6666666666666666,\"#ed7953\"],[0.7777777777777778,\"#fb9f3a\"],[0.8888888888888888,\"#fdca26\"],[1.0,\"#f0f921\"]]}],\"choropleth\":[{\"type\":\"choropleth\",\"colorbar\":{\"outlinewidth\":0,\"ticks\":\"\"}}],\"histogram2d\":[{\"type\":\"histogram2d\",\"colorbar\":{\"outlinewidth\":0,\"ticks\":\"\"},\"colorscale\":[[0.0,\"#0d0887\"],[0.1111111111111111,\"#46039f\"],[0.2222222222222222,\"#7201a8\"],[0.3333333333333333,\"#9c179e\"],[0.4444444444444444,\"#bd3786\"],[0.5555555555555556,\"#d8576b\"],[0.6666666666666666,\"#ed7953\"],[0.7777777777777778,\"#fb9f3a\"],[0.8888888888888888,\"#fdca26\"],[1.0,\"#f0f921\"]]}],\"heatmap\":[{\"type\":\"heatmap\",\"colorbar\":{\"outlinewidth\":0,\"ticks\":\"\"},\"colorscale\":[[0.0,\"#0d0887\"],[0.1111111111111111,\"#46039f\"],[0.2222222222222222,\"#7201a8\"],[0.3333333333333333,\"#9c179e\"],[0.4444444444444444,\"#bd3786\"],[0.5555555555555556,\"#d8576b\"],[0.6666666666666666,\"#ed7953\"],[0.7777777777777778,\"#fb9f3a\"],[0.8888888888888888,\"#fdca26\"],[1.0,\"#f0f921\"]]}],\"heatmapgl\":[{\"type\":\"heatmapgl\",\"colorbar\":{\"outlinewidth\":0,\"ticks\":\"\"},\"colorscale\":[[0.0,\"#0d0887\"],[0.1111111111111111,\"#46039f\"],[0.2222222222222222,\"#7201a8\"],[0.3333333333333333,\"#9c179e\"],[0.4444444444444444,\"#bd3786\"],[0.5555555555555556,\"#d8576b\"],[0.6666666666666666,\"#ed7953\"],[0.7777777777777778,\"#fb9f3a\"],[0.8888888888888888,\"#fdca26\"],[1.0,\"#f0f921\"]]}],\"contourcarpet\":[{\"type\":\"contourcarpet\",\"colorbar\":{\"outlinewidth\":0,\"ticks\":\"\"}}],\"contour\":[{\"type\":\"contour\",\"colorbar\":{\"outlinewidth\":0,\"ticks\":\"\"},\"colorscale\":[[0.0,\"#0d0887\"],[0.1111111111111111,\"#46039f\"],[0.2222222222222222,\"#7201a8\"],[0.3333333333333333,\"#9c179e\"],[0.4444444444444444,\"#bd3786\"],[0.5555555555555556,\"#d8576b\"],[0.6666666666666666,\"#ed7953\"],[0.7777777777777778,\"#fb9f3a\"],[0.8888888888888888,\"#fdca26\"],[1.0,\"#f0f921\"]]}],\"surface\":[{\"type\":\"surface\",\"colorbar\":{\"outlinewidth\":0,\"ticks\":\"\"},\"colorscale\":[[0.0,\"#0d0887\"],[0.1111111111111111,\"#46039f\"],[0.2222222222222222,\"#7201a8\"],[0.3333333333333333,\"#9c179e\"],[0.4444444444444444,\"#bd3786\"],[0.5555555555555556,\"#d8576b\"],[0.6666666666666666,\"#ed7953\"],[0.7777777777777778,\"#fb9f3a\"],[0.8888888888888888,\"#fdca26\"],[1.0,\"#f0f921\"]]}],\"mesh3d\":[{\"type\":\"mesh3d\",\"colorbar\":{\"outlinewidth\":0,\"ticks\":\"\"}}],\"scatter\":[{\"fillpattern\":{\"fillmode\":\"overlay\",\"size\":10,\"solidity\":0.2},\"type\":\"scatter\"}],\"parcoords\":[{\"type\":\"parcoords\",\"line\":{\"colorbar\":{\"outlinewidth\":0,\"ticks\":\"\"}}}],\"scatterpolargl\":[{\"type\":\"scatterpolargl\",\"marker\":{\"colorbar\":{\"outlinewidth\":0,\"ticks\":\"\"}}}],\"bar\":[{\"error_x\":{\"color\":\"#2a3f5f\"},\"error_y\":{\"color\":\"#2a3f5f\"},\"marker\":{\"line\":{\"color\":\"#E5ECF6\",\"width\":0.5},\"pattern\":{\"fillmode\":\"overlay\",\"size\":10,\"solidity\":0.2}},\"type\":\"bar\"}],\"scattergeo\":[{\"type\":\"scattergeo\",\"marker\":{\"colorbar\":{\"outlinewidth\":0,\"ticks\":\"\"}}}],\"scatterpolar\":[{\"type\":\"scatterpolar\",\"marker\":{\"colorbar\":{\"outlinewidth\":0,\"ticks\":\"\"}}}],\"histogram\":[{\"marker\":{\"pattern\":{\"fillmode\":\"overlay\",\"size\":10,\"solidity\":0.2}},\"type\":\"histogram\"}],\"scattergl\":[{\"type\":\"scattergl\",\"marker\":{\"colorbar\":{\"outlinewidth\":0,\"ticks\":\"\"}}}],\"scatter3d\":[{\"type\":\"scatter3d\",\"line\":{\"colorbar\":{\"outlinewidth\":0,\"ticks\":\"\"}},\"marker\":{\"colorbar\":{\"outlinewidth\":0,\"ticks\":\"\"}}}],\"scattermapbox\":[{\"type\":\"scattermapbox\",\"marker\":{\"colorbar\":{\"outlinewidth\":0,\"ticks\":\"\"}}}],\"scatterternary\":[{\"type\":\"scatterternary\",\"marker\":{\"colorbar\":{\"outlinewidth\":0,\"ticks\":\"\"}}}],\"scattercarpet\":[{\"type\":\"scattercarpet\",\"marker\":{\"colorbar\":{\"outlinewidth\":0,\"ticks\":\"\"}}}],\"carpet\":[{\"aaxis\":{\"endlinecolor\":\"#2a3f5f\",\"gridcolor\":\"white\",\"linecolor\":\"white\",\"minorgridcolor\":\"white\",\"startlinecolor\":\"#2a3f5f\"},\"baxis\":{\"endlinecolor\":\"#2a3f5f\",\"gridcolor\":\"white\",\"linecolor\":\"white\",\"minorgridcolor\":\"white\",\"startlinecolor\":\"#2a3f5f\"},\"type\":\"carpet\"}],\"table\":[{\"cells\":{\"fill\":{\"color\":\"#EBF0F8\"},\"line\":{\"color\":\"white\"}},\"header\":{\"fill\":{\"color\":\"#C8D4E3\"},\"line\":{\"color\":\"white\"}},\"type\":\"table\"}],\"barpolar\":[{\"marker\":{\"line\":{\"color\":\"#E5ECF6\",\"width\":0.5},\"pattern\":{\"fillmode\":\"overlay\",\"size\":10,\"solidity\":0.2}},\"type\":\"barpolar\"}],\"pie\":[{\"automargin\":true,\"type\":\"pie\"}]},\"layout\":{\"autotypenumbers\":\"strict\",\"colorway\":[\"#636efa\",\"#EF553B\",\"#00cc96\",\"#ab63fa\",\"#FFA15A\",\"#19d3f3\",\"#FF6692\",\"#B6E880\",\"#FF97FF\",\"#FECB52\"],\"font\":{\"color\":\"#2a3f5f\"},\"hovermode\":\"closest\",\"hoverlabel\":{\"align\":\"left\"},\"paper_bgcolor\":\"white\",\"plot_bgcolor\":\"#E5ECF6\",\"polar\":{\"bgcolor\":\"#E5ECF6\",\"angularaxis\":{\"gridcolor\":\"white\",\"linecolor\":\"white\",\"ticks\":\"\"},\"radialaxis\":{\"gridcolor\":\"white\",\"linecolor\":\"white\",\"ticks\":\"\"}},\"ternary\":{\"bgcolor\":\"#E5ECF6\",\"aaxis\":{\"gridcolor\":\"white\",\"linecolor\":\"white\",\"ticks\":\"\"},\"baxis\":{\"gridcolor\":\"white\",\"linecolor\":\"white\",\"ticks\":\"\"},\"caxis\":{\"gridcolor\":\"white\",\"linecolor\":\"white\",\"ticks\":\"\"}},\"coloraxis\":{\"colorbar\":{\"outlinewidth\":0,\"ticks\":\"\"}},\"colorscale\":{\"sequential\":[[0.0,\"#0d0887\"],[0.1111111111111111,\"#46039f\"],[0.2222222222222222,\"#7201a8\"],[0.3333333333333333,\"#9c179e\"],[0.4444444444444444,\"#bd3786\"],[0.5555555555555556,\"#d8576b\"],[0.6666666666666666,\"#ed7953\"],[0.7777777777777778,\"#fb9f3a\"],[0.8888888888888888,\"#fdca26\"],[1.0,\"#f0f921\"]],\"sequentialminus\":[[0.0,\"#0d0887\"],[0.1111111111111111,\"#46039f\"],[0.2222222222222222,\"#7201a8\"],[0.3333333333333333,\"#9c179e\"],[0.4444444444444444,\"#bd3786\"],[0.5555555555555556,\"#d8576b\"],[0.6666666666666666,\"#ed7953\"],[0.7777777777777778,\"#fb9f3a\"],[0.8888888888888888,\"#fdca26\"],[1.0,\"#f0f921\"]],\"diverging\":[[0,\"#8e0152\"],[0.1,\"#c51b7d\"],[0.2,\"#de77ae\"],[0.3,\"#f1b6da\"],[0.4,\"#fde0ef\"],[0.5,\"#f7f7f7\"],[0.6,\"#e6f5d0\"],[0.7,\"#b8e186\"],[0.8,\"#7fbc41\"],[0.9,\"#4d9221\"],[1,\"#276419\"]]},\"xaxis\":{\"gridcolor\":\"white\",\"linecolor\":\"white\",\"ticks\":\"\",\"title\":{\"standoff\":15},\"zerolinecolor\":\"white\",\"automargin\":true,\"zerolinewidth\":2},\"yaxis\":{\"gridcolor\":\"white\",\"linecolor\":\"white\",\"ticks\":\"\",\"title\":{\"standoff\":15},\"zerolinecolor\":\"white\",\"automargin\":true,\"zerolinewidth\":2},\"scene\":{\"xaxis\":{\"backgroundcolor\":\"#E5ECF6\",\"gridcolor\":\"white\",\"linecolor\":\"white\",\"showbackground\":true,\"ticks\":\"\",\"zerolinecolor\":\"white\",\"gridwidth\":2},\"yaxis\":{\"backgroundcolor\":\"#E5ECF6\",\"gridcolor\":\"white\",\"linecolor\":\"white\",\"showbackground\":true,\"ticks\":\"\",\"zerolinecolor\":\"white\",\"gridwidth\":2},\"zaxis\":{\"backgroundcolor\":\"#E5ECF6\",\"gridcolor\":\"white\",\"linecolor\":\"white\",\"showbackground\":true,\"ticks\":\"\",\"zerolinecolor\":\"white\",\"gridwidth\":2}},\"shapedefaults\":{\"line\":{\"color\":\"#2a3f5f\"}},\"annotationdefaults\":{\"arrowcolor\":\"#2a3f5f\",\"arrowhead\":0,\"arrowwidth\":1},\"geo\":{\"bgcolor\":\"white\",\"landcolor\":\"#E5ECF6\",\"subunitcolor\":\"white\",\"showland\":true,\"showlakes\":true,\"lakecolor\":\"white\"},\"title\":{\"x\":0.05},\"mapbox\":{\"style\":\"light\"}}},\"xaxis\":{\"anchor\":\"y\",\"domain\":[0.0,1.0],\"title\":{\"text\":\"Total Penjualan\"}},\"yaxis\":{\"anchor\":\"x\",\"domain\":[0.0,1.0],\"title\":{\"text\":\"Kategori Produk\"}},\"legend\":{\"tracegroupgap\":0},\"title\":{\"text\":\"Top 10 Kategori Produk Terlaris Tahun 2017\"},\"barmode\":\"relative\",\"showlegend\":false},                        {\"responsive\": true}                    ).then(function(){\n",
              "                            \n",
              "var gd = document.getElementById('b031ec6d-180b-4c90-b4b7-8111821f3128');\n",
              "var x = new MutationObserver(function (mutations, observer) {{\n",
              "        var display = window.getComputedStyle(gd).display;\n",
              "        if (!display || display === 'none') {{\n",
              "            console.log([gd, 'removed!']);\n",
              "            Plotly.purge(gd);\n",
              "            observer.disconnect();\n",
              "        }}\n",
              "}});\n",
              "\n",
              "// Listen for the removal of the full notebook cells\n",
              "var notebookContainer = gd.closest('#notebook-container');\n",
              "if (notebookContainer) {{\n",
              "    x.observe(notebookContainer, {childList: true});\n",
              "}}\n",
              "\n",
              "// Listen for the clearing of the current output cell\n",
              "var outputEl = gd.closest('.output');\n",
              "if (outputEl) {{\n",
              "    x.observe(outputEl, {childList: true});\n",
              "}}\n",
              "\n",
              "                        })                };                            </script>        </div>\n",
              "</body>\n",
              "</html>"
            ]
          },
          "metadata": {}
        },
        {
          "output_type": "display_data",
          "data": {
            "text/html": [
              "<html>\n",
              "<head><meta charset=\"utf-8\" /></head>\n",
              "<body>\n",
              "    <div>            <script src=\"https://cdnjs.cloudflare.com/ajax/libs/mathjax/2.7.5/MathJax.js?config=TeX-AMS-MML_SVG\"></script><script type=\"text/javascript\">if (window.MathJax && window.MathJax.Hub && window.MathJax.Hub.Config) {window.MathJax.Hub.Config({SVG: {font: \"STIX-Web\"}});}</script>                <script type=\"text/javascript\">window.PlotlyConfig = {MathJaxConfig: 'local'};</script>\n",
              "        <script charset=\"utf-8\" src=\"https://cdn.plot.ly/plotly-2.35.2.min.js\"></script>                <div id=\"806e82a3-cfe4-4bd1-8764-a32afa4352e1\" class=\"plotly-graph-div\" style=\"height:525px; width:100%;\"></div>            <script type=\"text/javascript\">                                    window.PLOTLYENV=window.PLOTLYENV || {};                                    if (document.getElementById(\"806e82a3-cfe4-4bd1-8764-a32afa4352e1\")) {                    Plotly.newPlot(                        \"806e82a3-cfe4-4bd1-8764-a32afa4352e1\",                        [{\"alignmentgroup\":\"True\",\"hovertemplate\":\"Total Penjualan=%{text}\\u003cbr\\u003eKategori Produk=%{y}\\u003cextra\\u003e\\u003c\\u002fextra\\u003e\",\"legendgroup\":\"\",\"marker\":{\"color\":\"#ADD8E6\",\"pattern\":{\"shape\":\"\"}},\"name\":\"\",\"offsetgroup\":\"\",\"orientation\":\"h\",\"showlegend\":false,\"text\":[5842.0,5810.0,4621.0,4436.0,4051.0,3969.0,3626.0,2580.0,2293.0,1849.0],\"textposition\":\"outside\",\"x\":[5842,5810,4621,4436,4051,3969,3626,2580,2293,1849],\"xaxis\":\"x\",\"y\":[\"beleza_saude\",\"cama_mesa_banho\",\"informatica_acessorios\",\"esporte_lazer\",\"moveis_decoracao\",\"utilidades_domesticas\",\"relogios_presentes\",\"automotivo\",\"telefonia\",\"ferramentas_jardim\"],\"yaxis\":\"y\",\"type\":\"bar\",\"texttemplate\":\"%{text:.2s}\"}],                        {\"template\":{\"data\":{\"histogram2dcontour\":[{\"type\":\"histogram2dcontour\",\"colorbar\":{\"outlinewidth\":0,\"ticks\":\"\"},\"colorscale\":[[0.0,\"#0d0887\"],[0.1111111111111111,\"#46039f\"],[0.2222222222222222,\"#7201a8\"],[0.3333333333333333,\"#9c179e\"],[0.4444444444444444,\"#bd3786\"],[0.5555555555555556,\"#d8576b\"],[0.6666666666666666,\"#ed7953\"],[0.7777777777777778,\"#fb9f3a\"],[0.8888888888888888,\"#fdca26\"],[1.0,\"#f0f921\"]]}],\"choropleth\":[{\"type\":\"choropleth\",\"colorbar\":{\"outlinewidth\":0,\"ticks\":\"\"}}],\"histogram2d\":[{\"type\":\"histogram2d\",\"colorbar\":{\"outlinewidth\":0,\"ticks\":\"\"},\"colorscale\":[[0.0,\"#0d0887\"],[0.1111111111111111,\"#46039f\"],[0.2222222222222222,\"#7201a8\"],[0.3333333333333333,\"#9c179e\"],[0.4444444444444444,\"#bd3786\"],[0.5555555555555556,\"#d8576b\"],[0.6666666666666666,\"#ed7953\"],[0.7777777777777778,\"#fb9f3a\"],[0.8888888888888888,\"#fdca26\"],[1.0,\"#f0f921\"]]}],\"heatmap\":[{\"type\":\"heatmap\",\"colorbar\":{\"outlinewidth\":0,\"ticks\":\"\"},\"colorscale\":[[0.0,\"#0d0887\"],[0.1111111111111111,\"#46039f\"],[0.2222222222222222,\"#7201a8\"],[0.3333333333333333,\"#9c179e\"],[0.4444444444444444,\"#bd3786\"],[0.5555555555555556,\"#d8576b\"],[0.6666666666666666,\"#ed7953\"],[0.7777777777777778,\"#fb9f3a\"],[0.8888888888888888,\"#fdca26\"],[1.0,\"#f0f921\"]]}],\"heatmapgl\":[{\"type\":\"heatmapgl\",\"colorbar\":{\"outlinewidth\":0,\"ticks\":\"\"},\"colorscale\":[[0.0,\"#0d0887\"],[0.1111111111111111,\"#46039f\"],[0.2222222222222222,\"#7201a8\"],[0.3333333333333333,\"#9c179e\"],[0.4444444444444444,\"#bd3786\"],[0.5555555555555556,\"#d8576b\"],[0.6666666666666666,\"#ed7953\"],[0.7777777777777778,\"#fb9f3a\"],[0.8888888888888888,\"#fdca26\"],[1.0,\"#f0f921\"]]}],\"contourcarpet\":[{\"type\":\"contourcarpet\",\"colorbar\":{\"outlinewidth\":0,\"ticks\":\"\"}}],\"contour\":[{\"type\":\"contour\",\"colorbar\":{\"outlinewidth\":0,\"ticks\":\"\"},\"colorscale\":[[0.0,\"#0d0887\"],[0.1111111111111111,\"#46039f\"],[0.2222222222222222,\"#7201a8\"],[0.3333333333333333,\"#9c179e\"],[0.4444444444444444,\"#bd3786\"],[0.5555555555555556,\"#d8576b\"],[0.6666666666666666,\"#ed7953\"],[0.7777777777777778,\"#fb9f3a\"],[0.8888888888888888,\"#fdca26\"],[1.0,\"#f0f921\"]]}],\"surface\":[{\"type\":\"surface\",\"colorbar\":{\"outlinewidth\":0,\"ticks\":\"\"},\"colorscale\":[[0.0,\"#0d0887\"],[0.1111111111111111,\"#46039f\"],[0.2222222222222222,\"#7201a8\"],[0.3333333333333333,\"#9c179e\"],[0.4444444444444444,\"#bd3786\"],[0.5555555555555556,\"#d8576b\"],[0.6666666666666666,\"#ed7953\"],[0.7777777777777778,\"#fb9f3a\"],[0.8888888888888888,\"#fdca26\"],[1.0,\"#f0f921\"]]}],\"mesh3d\":[{\"type\":\"mesh3d\",\"colorbar\":{\"outlinewidth\":0,\"ticks\":\"\"}}],\"scatter\":[{\"fillpattern\":{\"fillmode\":\"overlay\",\"size\":10,\"solidity\":0.2},\"type\":\"scatter\"}],\"parcoords\":[{\"type\":\"parcoords\",\"line\":{\"colorbar\":{\"outlinewidth\":0,\"ticks\":\"\"}}}],\"scatterpolargl\":[{\"type\":\"scatterpolargl\",\"marker\":{\"colorbar\":{\"outlinewidth\":0,\"ticks\":\"\"}}}],\"bar\":[{\"error_x\":{\"color\":\"#2a3f5f\"},\"error_y\":{\"color\":\"#2a3f5f\"},\"marker\":{\"line\":{\"color\":\"#E5ECF6\",\"width\":0.5},\"pattern\":{\"fillmode\":\"overlay\",\"size\":10,\"solidity\":0.2}},\"type\":\"bar\"}],\"scattergeo\":[{\"type\":\"scattergeo\",\"marker\":{\"colorbar\":{\"outlinewidth\":0,\"ticks\":\"\"}}}],\"scatterpolar\":[{\"type\":\"scatterpolar\",\"marker\":{\"colorbar\":{\"outlinewidth\":0,\"ticks\":\"\"}}}],\"histogram\":[{\"marker\":{\"pattern\":{\"fillmode\":\"overlay\",\"size\":10,\"solidity\":0.2}},\"type\":\"histogram\"}],\"scattergl\":[{\"type\":\"scattergl\",\"marker\":{\"colorbar\":{\"outlinewidth\":0,\"ticks\":\"\"}}}],\"scatter3d\":[{\"type\":\"scatter3d\",\"line\":{\"colorbar\":{\"outlinewidth\":0,\"ticks\":\"\"}},\"marker\":{\"colorbar\":{\"outlinewidth\":0,\"ticks\":\"\"}}}],\"scattermapbox\":[{\"type\":\"scattermapbox\",\"marker\":{\"colorbar\":{\"outlinewidth\":0,\"ticks\":\"\"}}}],\"scatterternary\":[{\"type\":\"scatterternary\",\"marker\":{\"colorbar\":{\"outlinewidth\":0,\"ticks\":\"\"}}}],\"scattercarpet\":[{\"type\":\"scattercarpet\",\"marker\":{\"colorbar\":{\"outlinewidth\":0,\"ticks\":\"\"}}}],\"carpet\":[{\"aaxis\":{\"endlinecolor\":\"#2a3f5f\",\"gridcolor\":\"white\",\"linecolor\":\"white\",\"minorgridcolor\":\"white\",\"startlinecolor\":\"#2a3f5f\"},\"baxis\":{\"endlinecolor\":\"#2a3f5f\",\"gridcolor\":\"white\",\"linecolor\":\"white\",\"minorgridcolor\":\"white\",\"startlinecolor\":\"#2a3f5f\"},\"type\":\"carpet\"}],\"table\":[{\"cells\":{\"fill\":{\"color\":\"#EBF0F8\"},\"line\":{\"color\":\"white\"}},\"header\":{\"fill\":{\"color\":\"#C8D4E3\"},\"line\":{\"color\":\"white\"}},\"type\":\"table\"}],\"barpolar\":[{\"marker\":{\"line\":{\"color\":\"#E5ECF6\",\"width\":0.5},\"pattern\":{\"fillmode\":\"overlay\",\"size\":10,\"solidity\":0.2}},\"type\":\"barpolar\"}],\"pie\":[{\"automargin\":true,\"type\":\"pie\"}]},\"layout\":{\"autotypenumbers\":\"strict\",\"colorway\":[\"#636efa\",\"#EF553B\",\"#00cc96\",\"#ab63fa\",\"#FFA15A\",\"#19d3f3\",\"#FF6692\",\"#B6E880\",\"#FF97FF\",\"#FECB52\"],\"font\":{\"color\":\"#2a3f5f\"},\"hovermode\":\"closest\",\"hoverlabel\":{\"align\":\"left\"},\"paper_bgcolor\":\"white\",\"plot_bgcolor\":\"#E5ECF6\",\"polar\":{\"bgcolor\":\"#E5ECF6\",\"angularaxis\":{\"gridcolor\":\"white\",\"linecolor\":\"white\",\"ticks\":\"\"},\"radialaxis\":{\"gridcolor\":\"white\",\"linecolor\":\"white\",\"ticks\":\"\"}},\"ternary\":{\"bgcolor\":\"#E5ECF6\",\"aaxis\":{\"gridcolor\":\"white\",\"linecolor\":\"white\",\"ticks\":\"\"},\"baxis\":{\"gridcolor\":\"white\",\"linecolor\":\"white\",\"ticks\":\"\"},\"caxis\":{\"gridcolor\":\"white\",\"linecolor\":\"white\",\"ticks\":\"\"}},\"coloraxis\":{\"colorbar\":{\"outlinewidth\":0,\"ticks\":\"\"}},\"colorscale\":{\"sequential\":[[0.0,\"#0d0887\"],[0.1111111111111111,\"#46039f\"],[0.2222222222222222,\"#7201a8\"],[0.3333333333333333,\"#9c179e\"],[0.4444444444444444,\"#bd3786\"],[0.5555555555555556,\"#d8576b\"],[0.6666666666666666,\"#ed7953\"],[0.7777777777777778,\"#fb9f3a\"],[0.8888888888888888,\"#fdca26\"],[1.0,\"#f0f921\"]],\"sequentialminus\":[[0.0,\"#0d0887\"],[0.1111111111111111,\"#46039f\"],[0.2222222222222222,\"#7201a8\"],[0.3333333333333333,\"#9c179e\"],[0.4444444444444444,\"#bd3786\"],[0.5555555555555556,\"#d8576b\"],[0.6666666666666666,\"#ed7953\"],[0.7777777777777778,\"#fb9f3a\"],[0.8888888888888888,\"#fdca26\"],[1.0,\"#f0f921\"]],\"diverging\":[[0,\"#8e0152\"],[0.1,\"#c51b7d\"],[0.2,\"#de77ae\"],[0.3,\"#f1b6da\"],[0.4,\"#fde0ef\"],[0.5,\"#f7f7f7\"],[0.6,\"#e6f5d0\"],[0.7,\"#b8e186\"],[0.8,\"#7fbc41\"],[0.9,\"#4d9221\"],[1,\"#276419\"]]},\"xaxis\":{\"gridcolor\":\"white\",\"linecolor\":\"white\",\"ticks\":\"\",\"title\":{\"standoff\":15},\"zerolinecolor\":\"white\",\"automargin\":true,\"zerolinewidth\":2},\"yaxis\":{\"gridcolor\":\"white\",\"linecolor\":\"white\",\"ticks\":\"\",\"title\":{\"standoff\":15},\"zerolinecolor\":\"white\",\"automargin\":true,\"zerolinewidth\":2},\"scene\":{\"xaxis\":{\"backgroundcolor\":\"#E5ECF6\",\"gridcolor\":\"white\",\"linecolor\":\"white\",\"showbackground\":true,\"ticks\":\"\",\"zerolinecolor\":\"white\",\"gridwidth\":2},\"yaxis\":{\"backgroundcolor\":\"#E5ECF6\",\"gridcolor\":\"white\",\"linecolor\":\"white\",\"showbackground\":true,\"ticks\":\"\",\"zerolinecolor\":\"white\",\"gridwidth\":2},\"zaxis\":{\"backgroundcolor\":\"#E5ECF6\",\"gridcolor\":\"white\",\"linecolor\":\"white\",\"showbackground\":true,\"ticks\":\"\",\"zerolinecolor\":\"white\",\"gridwidth\":2}},\"shapedefaults\":{\"line\":{\"color\":\"#2a3f5f\"}},\"annotationdefaults\":{\"arrowcolor\":\"#2a3f5f\",\"arrowhead\":0,\"arrowwidth\":1},\"geo\":{\"bgcolor\":\"white\",\"landcolor\":\"#E5ECF6\",\"subunitcolor\":\"white\",\"showland\":true,\"showlakes\":true,\"lakecolor\":\"white\"},\"title\":{\"x\":0.05},\"mapbox\":{\"style\":\"light\"}}},\"xaxis\":{\"anchor\":\"y\",\"domain\":[0.0,1.0],\"title\":{\"text\":\"Total Penjualan\"}},\"yaxis\":{\"anchor\":\"x\",\"domain\":[0.0,1.0],\"title\":{\"text\":\"Kategori Produk\"}},\"legend\":{\"tracegroupgap\":0},\"title\":{\"text\":\"Top 10 Kategori Produk Terlaris Tahun 2018\"},\"barmode\":\"relative\",\"showlegend\":false},                        {\"responsive\": true}                    ).then(function(){\n",
              "                            \n",
              "var gd = document.getElementById('806e82a3-cfe4-4bd1-8764-a32afa4352e1');\n",
              "var x = new MutationObserver(function (mutations, observer) {{\n",
              "        var display = window.getComputedStyle(gd).display;\n",
              "        if (!display || display === 'none') {{\n",
              "            console.log([gd, 'removed!']);\n",
              "            Plotly.purge(gd);\n",
              "            observer.disconnect();\n",
              "        }}\n",
              "}});\n",
              "\n",
              "// Listen for the removal of the full notebook cells\n",
              "var notebookContainer = gd.closest('#notebook-container');\n",
              "if (notebookContainer) {{\n",
              "    x.observe(notebookContainer, {childList: true});\n",
              "}}\n",
              "\n",
              "// Listen for the clearing of the current output cell\n",
              "var outputEl = gd.closest('.output');\n",
              "if (outputEl) {{\n",
              "    x.observe(outputEl, {childList: true});\n",
              "}}\n",
              "\n",
              "                        })                };                            </script>        </div>\n",
              "</body>\n",
              "</html>"
            ]
          },
          "metadata": {}
        }
      ]
    },
    {
      "cell_type": "markdown",
      "source": [
        "- Dari analisis kategori produk terlaris tahun 2016 hingga 2018, terlihat bahwa kategori Beleza e Saúde, Moveis e Decoracao, dan Esporte e Lazer konsisten muncul setiap tahun, dengan Beleza e Saúde mengalami lonjakan penjualan signifikan, dari 44 di 2016 menjadi 5,842 di 2018. Kategori Cama, Mesa e Banho juga dominan pada tahun 2017 dengan 5,134 penjualan. Munculnya kategori baru seperti Automotivo dan Telefonia pada 2018 mencerminkan diversifikasi minat konsumen, sementara kategori seperti Brinquedos menunjukkan penurunan permintaan.\n",
        "\n"
      ],
      "metadata": {
        "id": "wqKd9or5TGEW"
      }
    },
    {
      "cell_type": "markdown",
      "source": [
        "### pertanyaan 2"
      ],
      "metadata": {
        "id": "h_2Nmvh97udV"
      }
    },
    {
      "cell_type": "code",
      "source": [
        "\n",
        "# Mengambil ringkasan metode pembayaran\n",
        "payment_summary = payment_summary.sort_values(by='frequency', ascending=False)\n",
        "\n",
        "# Visualisasi Frekuensi Metode Pembayaran\n",
        "plt.figure(figsize=(12, 6))\n",
        "\n",
        "# Plot frekuensi metode pembayaran\n",
        "sns.barplot(data=payment_summary, x='payment_type', y='frequency', color='lightblue')\n",
        "plt.title('Frekuensi Metode Pembayaran', fontsize=16)\n",
        "plt.xlabel('Metode Pembayaran', fontsize=14)\n",
        "plt.ylabel('Frekuensi', fontsize=14)\n",
        "plt.xticks(rotation=45)\n",
        "plt.grid(axis='y', linestyle='--', alpha=0.7)\n",
        "plt.show()\n",
        "\n",
        "# Visualisasi Rata-rata Nilai Pesanan berdasarkan Metode Pembayaran\n",
        "plt.figure(figsize=(12, 6))\n",
        "\n",
        "# Plot rata-rata nilai pesanan\n",
        "sns.barplot(data=payment_summary, x='payment_type', y='average_order_value', color='lightblue')\n",
        "plt.title('Rata-rata Nilai Pesanan berdasarkan Metode Pembayaran', fontsize=16)\n",
        "plt.xlabel('Metode Pembayaran', fontsize=14)\n",
        "plt.ylabel('Rata-rata Nilai Pesanan', fontsize=14)\n",
        "plt.xticks(rotation=45)\n",
        "plt.grid(axis='y', linestyle='--', alpha=0.7)\n",
        "plt.show()"
      ],
      "metadata": {
        "colab": {
          "base_uri": "https://localhost:8080/",
          "height": 1000
        },
        "id": "JW253sYfPklN",
        "outputId": "5ba9d47e-dc4e-41fe-9e04-4b8291e43ed4"
      },
      "execution_count": null,
      "outputs": [
        {
          "output_type": "display_data",
          "data": {
            "text/plain": [
              "<Figure size 1200x600 with 1 Axes>"
            ],
            "image/png": "[encoded data removed]"
          },
          "metadata": {}
        },
        {
          "output_type": "display_data",
          "data": {
            "text/plain": [
              "<Figure size 1200x600 with 1 Axes>"
            ],
            "image/png": "[encoded data removed]"
          },
          "metadata": {}
        }
      ]
    },
    {
      "cell_type": "markdown",
      "source": [
        "\n",
        "Analisis metode pembayaran menunjukkan variasi dalam preferensi pelanggan saat melakukan transaksi.\n",
        "\n",
        "Insight:\n",
        "\n",
        "Metode pembayaran melalui kartu kredit mendominasi, diikuti oleh metode lainnya, menunjukkan kepercayaan pelanggan terhadap pembayaran digital.\n",
        "Penyediaan lebih banyak pilihan metode pembayaran dapat meningkatkan konversi penjualan, terutama untuk pelanggan yang lebih memilih metode lain.\n",
        "*   Metode pembayaran melalui kartu kredit mendominasi, diikuti oleh metode lainnya, menunjukkan kepercayaan pelanggan terhadap pembayaran digital.\n",
        "*   Penyediaan lebih banyak pilihan metode pembayaran dapat meningkatkan konversi penjualan, terutama untuk pelanggan yang lebih memilih metode lain.\n"
      ],
      "metadata": {
        "id": "0bNdtNFFTjVC"
      }
    },
    {
      "cell_type": "markdown",
      "source": [
        "### Pertanyaan 3\n"
      ],
      "metadata": {
        "id": "_ICdhS1ygMjt"
      }
    },
    {
      "cell_type": "code",
      "source": [
        "\n",
        "# Menyiapkan plot\n",
        "fig, axs = plt.subplots(1, 3, figsize=(18, 6))\n",
        "\n",
        "# Menghitung dan menampilkan rata-rata skor ulasan per kategori produk untuk 10 produk terlaris setiap tahun\n",
        "for idx, year in enumerate([2016, 2017, 2018]):\n",
        "    # Memfilter data untuk kategori terlaris tahun ini\n",
        "    top_categories = top_categories_per_year[year]\n",
        "    filtered_reviews = reviews_merged_df[reviews_merged_df['product_category_name'].isin(top_categories)]\n",
        "\n",
        "    # Menghitung rata-rata skor ulasan per kategori produk\n",
        "    category_review_scores = filtered_reviews.groupby('product_category_name')['review_score'].mean().reset_index(name='average_review_score')\n",
        "\n",
        "    # Membuat grafik batang\n",
        "    axs[idx].barh(category_review_scores['product_category_name'], category_review_scores['average_review_score'], color='lightblue')\n",
        "    axs[idx].set_title(f'Rata-rata Skor Ulasan Kategori Produk Terlaris Tahun {year}')\n",
        "    axs[idx].set_xlabel('Rata-rata Skor Ulasan')\n",
        "    axs[idx].set_ylabel('Kategori Produk')\n",
        "    axs[idx].invert_yaxis()  # Membalikkan sumbu y untuk menampilkan kategori teratas di atas\n",
        "\n",
        "plt.tight_layout()\n",
        "plt.show()"
      ],
      "metadata": {
        "colab": {
          "base_uri": "https://localhost:8080/",
          "height": 365
        },
        "id": "Gvx-9xodP-Rn",
        "outputId": "e656889d-0cc4-40ae-90c0-e1b032f08bf6"
      },
      "execution_count": 56,
      "outputs": [
        {
          "output_type": "display_data",
          "data": {
            "text/plain": [
              "<Figure size 1800x600 with 3 Axes>"
            ],
            "image/png": "[encoded data removed]"
          },
          "metadata": {}
        }
      ]
    },
    {
      "cell_type": "markdown",
      "source": [
        "Rata-rata skor ulasan menunjukkan bahwa sebagian besar produk menerima penilaian yang baik. Ini mengindikasikan kepuasan pelanggan yang tinggi terhadap produk yang ditawarkan.\n",
        "\n",
        "Insight:\n",
        "*   beberapa produk memiliki skor ulasan yang sangat tinggi, menunjukkan kualitas yang sangat baik.\n",
        "*   Skor ulasan yang rendah pada produk tertentu mungkin menunjukkan masalah yang perlu diperbaiki untuk meningkatkan kepuasan pelanggan.\n",
        "\n"
      ],
      "metadata": {
        "id": "iaFqBYpOULrZ"
      }
    },
    {
      "cell_type": "markdown",
      "source": [
        "### Pertanyaan 4"
      ],
      "metadata": {
        "id": "E9dR_IXw770U"
      }
    },
    {
      "cell_type": "code",
      "source": [
        "plt.figure(figsize=(10, 5))\n",
        "# Menggunakan warna biru muda langsung\n",
        "sns.barplot(x='year', y='total_orders', data=annual_orders, color='lightblue')\n",
        "\n",
        "plt.title('Jumlah Total Pesanan per Tahun', fontsize=16)\n",
        "plt.xlabel('Tahun', fontsize=12)\n",
        "plt.ylabel('Total Pesanan', fontsize=12)\n",
        "plt.xticks(fontsize=10)\n",
        "plt.yticks(fontsize=10)\n",
        "plt.grid(axis='y', linestyle='--', alpha=0.7)\n",
        "\n",
        "# Menambahkan angka total pesanan di atas setiap batang\n",
        "for i in range(len(annual_orders)):\n",
        "    plt.text(i, annual_orders['total_orders'].iloc[i],\n",
        "             str(annual_orders['total_orders'].iloc[i]),\n",
        "             ha='center', va='bottom', fontsize=10)\n",
        "\n",
        "plt.show()\n"
      ],
      "metadata": {
        "colab": {
          "base_uri": "https://localhost:8080/",
          "height": 493
        },
        "id": "3HDPAnXeVm8-",
        "outputId": "c16af493-f6b6-4261-bd03-eb89efbda03d"
      },
      "execution_count": 59,
      "outputs": [
        {
          "output_type": "display_data",
          "data": {
            "text/plain": [
              "<Figure size 1000x500 with 1 Axes>"
            ],
            "image/png": "[encoded data removed]"
          },
          "metadata": {}
        }
      ]
    },
    {
      "cell_type": "markdown",
      "source": [
        "Insight\n",
        "-  Grafik menunjukkan tren pertumbuhan jumlah total pesanan dari tahun ke tahun. Jika batang menunjukkan peningkatan yang signifikan, ini menandakan bahwa bisnis mengalami peningkatan permintaan dan berhasil menarik lebih banyak pelanggan."
      ],
      "metadata": {
        "id": "M5gHTYLd2JMs"
      }
    },
    {
      "cell_type": "markdown",
      "source": [
        "## Conclution\n",
        "- Conclution pertanyaan 1\n",
        "Kategori produk yang paling laris mengalami pergeseran setiap tahun, dengan variasi antara kategori yang berbeda, menunjukkan perubahan preferensi konsumen.\n",
        "- Conclution pertanyaan 2\n",
        "Metode pembayaran yang paling sering digunakan bervariasi, dan terdapat perbedaan signifikan dalam rata-rata nilai pesanan antara metode pembayaran, mengindikasikan preferensi pelanggan yang berbeda berdasarkan kenyamanan dan kepercayaan.\n",
        "- Conclution pertanyaan 3\n",
        "Rata-rata skor ulasan untuk kategori produk terlaris menunjukkan bahwa beberapa kategori mendapatkan feedback positif yang lebih tinggi, yang dapat memengaruhi penjualan di tahun berikutnya.\n",
        "- Conclusion pertanyaan 4\n",
        " Jumlah total pesanan menunjukkan tren peningkatan yang signifikan setiap tahun, menandakan pertumbuhan permintaan dan popularitas platform dalam periode tersebut."
      ],
      "metadata": {
        "id": "TUEQoXjm8JlW"
      }
    }
  ]
}